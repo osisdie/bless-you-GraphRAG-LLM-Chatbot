{
  "cells": [
    {
      "cell_type": "markdown",
      "metadata": {
        "id": "view-in-github"
      },
      "source": [
        "<a href=\"https://colab.research.google.com/github/tranmanhcuong253/Vietnamese-RAG-Chatbot/blob/main/Vietnamese_RAG_Chatbot_Backend.ipynb\" target=\"_parent\"><img src=\"https://colab.research.google.com/assets/colab-badge.svg\" alt=\"Open In Colab\"/></a>\n"
      ]
    },
    {
      "cell_type": "markdown",
      "metadata": {
        "id": "SEHLJnfPo9At"
      },
      "source": [
        "# 0.Packages\n"
      ]
    },
    {
      "cell_type": "code",
      "execution_count": null,
      "metadata": {
        "colab": {
          "base_uri": "https://localhost:8080/"
        },
        "id": "TRQYKuJYjcSR",
        "outputId": "62a900d4-f2a4-4ea9-9e5e-702b0ffdef32"
      },
      "outputs": [
        {
          "name": "stdout",
          "output_type": "stream",
          "text": [
            "Collecting ipython-autotime\n",
            "  Downloading ipython_autotime-0.3.2-py2.py3-none-any.whl.metadata (1.4 kB)\n",
            "Requirement already satisfied: ipython in /usr/local/lib/python3.10/dist-packages (from ipython-autotime) (7.34.0)\n",
            "Requirement already satisfied: setuptools>=18.5 in /usr/local/lib/python3.10/dist-packages (from ipython->ipython-autotime) (75.1.0)\n",
            "Collecting jedi>=0.16 (from ipython->ipython-autotime)\n",
            "  Downloading jedi-0.19.2-py2.py3-none-any.whl.metadata (22 kB)\n",
            "Requirement already satisfied: decorator in /usr/local/lib/python3.10/dist-packages (from ipython->ipython-autotime) (4.4.2)\n",
            "Requirement already satisfied: pickleshare in /usr/local/lib/python3.10/dist-packages (from ipython->ipython-autotime) (0.7.5)\n",
            "Requirement already satisfied: traitlets>=4.2 in /usr/local/lib/python3.10/dist-packages (from ipython->ipython-autotime) (5.7.1)\n",
            "Requirement already satisfied: prompt-toolkit!=3.0.0,!=3.0.1,<3.1.0,>=2.0.0 in /usr/local/lib/python3.10/dist-packages (from ipython->ipython-autotime) (3.0.48)\n",
            "Requirement already satisfied: pygments in /usr/local/lib/python3.10/dist-packages (from ipython->ipython-autotime) (2.18.0)\n",
            "Requirement already satisfied: backcall in /usr/local/lib/python3.10/dist-packages (from ipython->ipython-autotime) (0.2.0)\n",
            "Requirement already satisfied: matplotlib-inline in /usr/local/lib/python3.10/dist-packages (from ipython->ipython-autotime) (0.1.7)\n",
            "Requirement already satisfied: pexpect>4.3 in /usr/local/lib/python3.10/dist-packages (from ipython->ipython-autotime) (4.9.0)\n",
            "Requirement already satisfied: parso<0.9.0,>=0.8.4 in /usr/local/lib/python3.10/dist-packages (from jedi>=0.16->ipython->ipython-autotime) (0.8.4)\n",
            "Requirement already satisfied: ptyprocess>=0.5 in /usr/local/lib/python3.10/dist-packages (from pexpect>4.3->ipython->ipython-autotime) (0.7.0)\n",
            "Requirement already satisfied: wcwidth in /usr/local/lib/python3.10/dist-packages (from prompt-toolkit!=3.0.0,!=3.0.1,<3.1.0,>=2.0.0->ipython->ipython-autotime) (0.2.13)\n",
            "Downloading ipython_autotime-0.3.2-py2.py3-none-any.whl (7.0 kB)\n",
            "Downloading jedi-0.19.2-py2.py3-none-any.whl (1.6 MB)\n",
            "\u001b[2K   \u001b[90m━━━━━━━━━━━━━━━━━━━━━━━━━━━━━━━━━━━━━━━━\u001b[0m \u001b[32m1.6/1.6 MB\u001b[0m \u001b[31m10.3 MB/s\u001b[0m eta \u001b[36m0:00:00\u001b[0m\n",
            "\u001b[?25hInstalling collected packages: jedi, ipython-autotime\n",
            "Successfully installed ipython-autotime-0.3.2 jedi-0.19.2\n",
            "Requirement already satisfied: networkx in /usr/local/lib/python3.10/dist-packages (3.4.2)\n",
            "Collecting gradio\n",
            "  Downloading gradio-5.9.0-py3-none-any.whl.metadata (16 kB)\n",
            "Collecting aiofiles<24.0,>=22.0 (from gradio)\n",
            "  Downloading aiofiles-23.2.1-py3-none-any.whl.metadata (9.7 kB)\n",
            "Requirement already satisfied: anyio<5.0,>=3.0 in /usr/local/lib/python3.10/dist-packages (from gradio) (3.7.1)\n",
            "Collecting fastapi<1.0,>=0.115.2 (from gradio)\n",
            "  Downloading fastapi-0.115.6-py3-none-any.whl.metadata (27 kB)\n",
            "Collecting ffmpy (from gradio)\n",
            "  Downloading ffmpy-0.4.0-py3-none-any.whl.metadata (2.9 kB)\n",
            "Collecting gradio-client==1.5.2 (from gradio)\n",
            "  Downloading gradio_client-1.5.2-py3-none-any.whl.metadata (7.1 kB)\n",
            "Requirement already satisfied: httpx>=0.24.1 in /usr/local/lib/python3.10/dist-packages (from gradio) (0.28.1)\n",
            "Requirement already satisfied: huggingface-hub>=0.25.1 in /usr/local/lib/python3.10/dist-packages (from gradio) (0.26.5)\n",
            "Requirement already satisfied: jinja2<4.0 in /usr/local/lib/python3.10/dist-packages (from gradio) (3.1.4)\n",
            "Collecting markupsafe~=2.0 (from gradio)\n",
            "  Downloading MarkupSafe-2.1.5-cp310-cp310-manylinux_2_17_x86_64.manylinux2014_x86_64.whl.metadata (3.0 kB)\n",
            "Requirement already satisfied: numpy<3.0,>=1.0 in /usr/local/lib/python3.10/dist-packages (from gradio) (1.26.4)\n",
            "Requirement already satisfied: orjson~=3.0 in /usr/local/lib/python3.10/dist-packages (from gradio) (3.10.12)\n",
            "Requirement already satisfied: packaging in /usr/local/lib/python3.10/dist-packages (from gradio) (24.2)\n",
            "Requirement already satisfied: pandas<3.0,>=1.0 in /usr/local/lib/python3.10/dist-packages (from gradio) (2.2.2)\n",
            "Requirement already satisfied: pillow<12.0,>=8.0 in /usr/local/lib/python3.10/dist-packages (from gradio) (11.0.0)\n",
            "Requirement already satisfied: pydantic>=2.0 in /usr/local/lib/python3.10/dist-packages (from gradio) (2.10.3)\n",
            "Collecting pydub (from gradio)\n",
            "  Downloading pydub-0.25.1-py2.py3-none-any.whl.metadata (1.4 kB)\n",
            "Collecting python-multipart>=0.0.18 (from gradio)\n",
            "  Downloading python_multipart-0.0.19-py3-none-any.whl.metadata (1.8 kB)\n",
            "Requirement already satisfied: pyyaml<7.0,>=5.0 in /usr/local/lib/python3.10/dist-packages (from gradio) (6.0.2)\n",
            "Collecting ruff>=0.2.2 (from gradio)\n",
            "  Downloading ruff-0.8.3-py3-none-manylinux_2_17_x86_64.manylinux2014_x86_64.whl.metadata (25 kB)\n",
            "Collecting safehttpx<0.2.0,>=0.1.6 (from gradio)\n",
            "  Downloading safehttpx-0.1.6-py3-none-any.whl.metadata (4.2 kB)\n",
            "Collecting semantic-version~=2.0 (from gradio)\n",
            "  Downloading semantic_version-2.10.0-py2.py3-none-any.whl.metadata (9.7 kB)\n",
            "Collecting starlette<1.0,>=0.40.0 (from gradio)\n",
            "  Downloading starlette-0.42.0-py3-none-any.whl.metadata (6.0 kB)\n",
            "Collecting tomlkit<0.14.0,>=0.12.0 (from gradio)\n",
            "  Downloading tomlkit-0.13.2-py3-none-any.whl.metadata (2.7 kB)\n",
            "Requirement already satisfied: typer<1.0,>=0.12 in /usr/local/lib/python3.10/dist-packages (from gradio) (0.15.1)\n",
            "Requirement already satisfied: typing-extensions~=4.0 in /usr/local/lib/python3.10/dist-packages (from gradio) (4.12.2)\n",
            "Collecting uvicorn>=0.14.0 (from gradio)\n",
            "  Downloading uvicorn-0.32.1-py3-none-any.whl.metadata (6.6 kB)\n",
            "Requirement already satisfied: fsspec in /usr/local/lib/python3.10/dist-packages (from gradio-client==1.5.2->gradio) (2024.10.0)\n",
            "Requirement already satisfied: websockets<15.0,>=10.0 in /usr/local/lib/python3.10/dist-packages (from gradio-client==1.5.2->gradio) (14.1)\n",
            "Requirement already satisfied: idna>=2.8 in /usr/local/lib/python3.10/dist-packages (from anyio<5.0,>=3.0->gradio) (3.10)\n",
            "Requirement already satisfied: sniffio>=1.1 in /usr/local/lib/python3.10/dist-packages (from anyio<5.0,>=3.0->gradio) (1.3.1)\n",
            "Requirement already satisfied: exceptiongroup in /usr/local/lib/python3.10/dist-packages (from anyio<5.0,>=3.0->gradio) (1.2.2)\n",
            "Collecting starlette<1.0,>=0.40.0 (from gradio)\n",
            "  Downloading starlette-0.41.3-py3-none-any.whl.metadata (6.0 kB)\n",
            "Requirement already satisfied: certifi in /usr/local/lib/python3.10/dist-packages (from httpx>=0.24.1->gradio) (2024.8.30)\n",
            "Requirement already satisfied: httpcore==1.* in /usr/local/lib/python3.10/dist-packages (from httpx>=0.24.1->gradio) (1.0.7)\n",
            "Requirement already satisfied: h11<0.15,>=0.13 in /usr/local/lib/python3.10/dist-packages (from httpcore==1.*->httpx>=0.24.1->gradio) (0.14.0)\n",
            "Requirement already satisfied: filelock in /usr/local/lib/python3.10/dist-packages (from huggingface-hub>=0.25.1->gradio) (3.16.1)\n",
            "Requirement already satisfied: requests in /usr/local/lib/python3.10/dist-packages (from huggingface-hub>=0.25.1->gradio) (2.32.3)\n",
            "Requirement already satisfied: tqdm>=4.42.1 in /usr/local/lib/python3.10/dist-packages (from huggingface-hub>=0.25.1->gradio) (4.66.6)\n",
            "Requirement already satisfied: python-dateutil>=2.8.2 in /usr/local/lib/python3.10/dist-packages (from pandas<3.0,>=1.0->gradio) (2.8.2)\n",
            "Requirement already satisfied: pytz>=2020.1 in /usr/local/lib/python3.10/dist-packages (from pandas<3.0,>=1.0->gradio) (2024.2)\n",
            "Requirement already satisfied: tzdata>=2022.7 in /usr/local/lib/python3.10/dist-packages (from pandas<3.0,>=1.0->gradio) (2024.2)\n",
            "Requirement already satisfied: annotated-types>=0.6.0 in /usr/local/lib/python3.10/dist-packages (from pydantic>=2.0->gradio) (0.7.0)\n",
            "Requirement already satisfied: pydantic-core==2.27.1 in /usr/local/lib/python3.10/dist-packages (from pydantic>=2.0->gradio) (2.27.1)\n",
            "Requirement already satisfied: click>=8.0.0 in /usr/local/lib/python3.10/dist-packages (from typer<1.0,>=0.12->gradio) (8.1.7)\n",
            "Requirement already satisfied: shellingham>=1.3.0 in /usr/local/lib/python3.10/dist-packages (from typer<1.0,>=0.12->gradio) (1.5.4)\n",
            "Requirement already satisfied: rich>=10.11.0 in /usr/local/lib/python3.10/dist-packages (from typer<1.0,>=0.12->gradio) (13.9.4)\n",
            "Requirement already satisfied: six>=1.5 in /usr/local/lib/python3.10/dist-packages (from python-dateutil>=2.8.2->pandas<3.0,>=1.0->gradio) (1.17.0)\n",
            "Requirement already satisfied: markdown-it-py>=2.2.0 in /usr/local/lib/python3.10/dist-packages (from rich>=10.11.0->typer<1.0,>=0.12->gradio) (3.0.0)\n",
            "Requirement already satisfied: pygments<3.0.0,>=2.13.0 in /usr/local/lib/python3.10/dist-packages (from rich>=10.11.0->typer<1.0,>=0.12->gradio) (2.18.0)\n",
            "Requirement already satisfied: charset-normalizer<4,>=2 in /usr/local/lib/python3.10/dist-packages (from requests->huggingface-hub>=0.25.1->gradio) (3.4.0)\n",
            "Requirement already satisfied: urllib3<3,>=1.21.1 in /usr/local/lib/python3.10/dist-packages (from requests->huggingface-hub>=0.25.1->gradio) (2.2.3)\n",
            "Requirement already satisfied: mdurl~=0.1 in /usr/local/lib/python3.10/dist-packages (from markdown-it-py>=2.2.0->rich>=10.11.0->typer<1.0,>=0.12->gradio) (0.1.2)\n",
            "Downloading gradio-5.9.0-py3-none-any.whl (57.2 MB)\n",
            "\u001b[2K   \u001b[90m━━━━━━━━━━━━━━━━━━━━━━━━━━━━━━━━━━━━━━━━\u001b[0m \u001b[32m57.2/57.2 MB\u001b[0m \u001b[31m9.6 MB/s\u001b[0m eta \u001b[36m0:00:00\u001b[0m\n",
            "\u001b[?25hDownloading gradio_client-1.5.2-py3-none-any.whl (320 kB)\n",
            "\u001b[2K   \u001b[90m━━━━━━━━━━━━━━━━━━━━━━━━━━━━━━━━━━━━━━━━\u001b[0m \u001b[32m320.4/320.4 kB\u001b[0m \u001b[31m18.3 MB/s\u001b[0m eta \u001b[36m0:00:00\u001b[0m\n",
            "\u001b[?25hDownloading aiofiles-23.2.1-py3-none-any.whl (15 kB)\n",
            "Downloading fastapi-0.115.6-py3-none-any.whl (94 kB)\n",
            "\u001b[2K   \u001b[90m━━━━━━━━━━━━━━━━━━━━━━━━━━━━━━━━━━━━━━━━\u001b[0m \u001b[32m94.8/94.8 kB\u001b[0m \u001b[31m7.1 MB/s\u001b[0m eta \u001b[36m0:00:00\u001b[0m\n",
            "\u001b[?25hDownloading MarkupSafe-2.1.5-cp310-cp310-manylinux_2_17_x86_64.manylinux2014_x86_64.whl (25 kB)\n",
            "Downloading python_multipart-0.0.19-py3-none-any.whl (24 kB)\n",
            "Downloading ruff-0.8.3-py3-none-manylinux_2_17_x86_64.manylinux2014_x86_64.whl (11.2 MB)\n",
            "\u001b[2K   \u001b[90m━━━━━━━━━━━━━━━━━━━━━━━━━━━━━━━━━━━━━━━━\u001b[0m \u001b[32m11.2/11.2 MB\u001b[0m \u001b[31m45.9 MB/s\u001b[0m eta \u001b[36m0:00:00\u001b[0m\n",
            "\u001b[?25hDownloading safehttpx-0.1.6-py3-none-any.whl (8.7 kB)\n",
            "Downloading semantic_version-2.10.0-py2.py3-none-any.whl (15 kB)\n",
            "Downloading starlette-0.41.3-py3-none-any.whl (73 kB)\n",
            "\u001b[2K   \u001b[90m━━━━━━━━━━━━━━━━━━━━━━━━━━━━━━━━━━━━━━━━\u001b[0m \u001b[32m73.2/73.2 kB\u001b[0m \u001b[31m3.8 MB/s\u001b[0m eta \u001b[36m0:00:00\u001b[0m\n",
            "\u001b[?25hDownloading tomlkit-0.13.2-py3-none-any.whl (37 kB)\n",
            "Downloading uvicorn-0.32.1-py3-none-any.whl (63 kB)\n",
            "\u001b[2K   \u001b[90m━━━━━━━━━━━━━━━━━━━━━━━━━━━━━━━━━━━━━━━━\u001b[0m \u001b[32m63.8/63.8 kB\u001b[0m \u001b[31m4.2 MB/s\u001b[0m eta \u001b[36m0:00:00\u001b[0m\n",
            "\u001b[?25hDownloading ffmpy-0.4.0-py3-none-any.whl (5.8 kB)\n",
            "Downloading pydub-0.25.1-py2.py3-none-any.whl (32 kB)\n",
            "Installing collected packages: pydub, uvicorn, tomlkit, semantic-version, ruff, python-multipart, markupsafe, ffmpy, aiofiles, starlette, safehttpx, gradio-client, fastapi, gradio\n",
            "  Attempting uninstall: markupsafe\n",
            "    Found existing installation: MarkupSafe 3.0.2\n",
            "    Uninstalling MarkupSafe-3.0.2:\n",
            "      Successfully uninstalled MarkupSafe-3.0.2\n",
            "Successfully installed aiofiles-23.2.1 fastapi-0.115.6 ffmpy-0.4.0 gradio-5.9.0 gradio-client-1.5.2 markupsafe-2.1.5 pydub-0.25.1 python-multipart-0.0.19 ruff-0.8.3 safehttpx-0.1.6 semantic-version-2.10.0 starlette-0.41.3 tomlkit-0.13.2 uvicorn-0.32.1\n",
            "Collecting neo4j\n",
            "  Downloading neo4j-5.27.0-py3-none-any.whl.metadata (5.9 kB)\n",
            "Requirement already satisfied: pytz in /usr/local/lib/python3.10/dist-packages (from neo4j) (2024.2)\n",
            "Downloading neo4j-5.27.0-py3-none-any.whl (301 kB)\n",
            "\u001b[2K   \u001b[90m━━━━━━━━━━━━━━━━━━━━━━━━━━━━━━━━━━━━━━━━\u001b[0m \u001b[32m301.7/301.7 kB\u001b[0m \u001b[31m6.9 MB/s\u001b[0m eta \u001b[36m0:00:00\u001b[0m\n",
            "\u001b[?25hInstalling collected packages: neo4j\n",
            "Successfully installed neo4j-5.27.0\n",
            "time: 583 µs (started: 2024-12-14 10:16:55 +00:00)\n"
          ]
        }
      ],
      "source": [
        "%pip install ipython-autotime\n",
        "%load_ext autotime"
      ]
    },
    {
      "cell_type": "code",
      "execution_count": null,
      "metadata": {
        "colab": {
          "base_uri": "https://localhost:8080/"
        },
        "id": "0eBG5WNupBTQ",
        "outputId": "698f424b-2e98-425a-925a-9f4692748460"
      },
      "outputs": [
        {
          "name": "stdout",
          "output_type": "stream",
          "text": [
            "time: 769 ms (started: 2024-12-14 10:16:55 +00:00)\n"
          ]
        }
      ],
      "source": [
        "%matplotlib inline\n",
        "\n",
        "import os\n",
        "import numpy as np\n",
        "import pandas as pd\n",
        "import matplotlib.pyplot as plt\n",
        "from pprint import pprint"
      ]
    },
    {
      "cell_type": "markdown",
      "metadata": {
        "id": "3tJbol4wyaP7"
      },
      "source": [
        "# 1.Static mapping table\n"
      ]
    },
    {
      "cell_type": "markdown",
      "metadata": {
        "id": "aovaomc6RvtM"
      },
      "source": [
        "## System prompt template\n"
      ]
    },
    {
      "cell_type": "code",
      "execution_count": null,
      "metadata": {
        "colab": {
          "base_uri": "https://localhost:8080/"
        },
        "id": "c2ddcIlyQZVq",
        "outputId": "18bfbcad-bbc1-48e5-ba10-972fbf479ac2"
      },
      "outputs": [
        {
          "name": "stdout",
          "output_type": "stream",
          "text": [
            "You are an assistant specialized in interpreting divination results. Use the following [Context] to provide insights and advice to users based on their questions. Always format your responses according to the [Response Format] below, ensuring personalized interpretations and actionable advice.\n",
            "\n",
            "\n",
            "[Response Format] \n",
            "您抽到的籤是: [Include 籤名 here] \n",
            "籤詩: [Include full 籤詩 here] \n",
            "\n",
            "\n",
            "籤詩解讀: \n",
            "\n",
            "\n",
            "小廟公建議: \n",
            "[Context] {context}\n",
            "Guidelines: - Interpret the provided [Context] flexibly. The \"籤詩解讀\" should connect the content of the divination with the user's question. - Use the \"小廟公建議\" to provide specific, actionable guidance relevant to the question, referencing details from the context where appropriate. - End with a short phrase encouraging the user, alike \"Don't worry\", \"Good luck\", etc. \n",
            "Note: If the length of the [Context] is less than 20 characters, provide the full [Context] directly as a response without applying the [Response Format].\n",
            "time: 2.57 ms (started: 2024-12-16 02:21:46 +00:00)\n"
          ]
        }
      ],
      "source": [
        "SYS_PROMPT_TPL: str = '\\n'.join([\n",
        "    (\"You are an assistant specialized in interpreting divination results. \"\n",
        "     \"Use the following [Context] to provide insights and advice to users based on their questions. \"\n",
        "     \"Always format your responses according to the [Response Format] below, \"\n",
        "     \"ensuring personalized interpretations and actionable advice.\"),\n",
        "    \"\\n\",\n",
        "    \"[Response Format] \",\n",
        "    \"您抽到的籤是: [Include 籤名 here] \",\n",
        "    \"籤詩: [Include full 籤詩 here] \",\n",
        "    \"\\n\",\n",
        "    \"籤詩解讀: \",\n",
        "    \"\\n\",\n",
        "    \"小廟公建議: \",\n",
        "    \"[Context] \"\n",
        "    \"{context}\"\n",
        "    \"\\n\"\n",
        "    \"Guidelines: \"\n",
        "    \"- Interpret the provided [Context] flexibly. The \\\"籤詩解讀\\\" should connect the content of the divination with the user's question. \"\n",
        "    \"- Use the \\\"小廟公建議\\\" to provide specific, actionable guidance relevant to the question, referencing details from the context where appropriate. \"\n",
        "    \"- End with a short phrase encouraging the user, alike \\\"Don't worry\\\", \\\"Good luck\\\", etc. \"\n",
        "    \"\\n\"\n",
        "    \"Note: \"\n",
        "    \"If the length of the [Context] is less than 20 characters, provide the full [Context] directly as a response without applying the [Response Format].\"\n",
        "])\n",
        "\n",
        "print(SYS_PROMPT_TPL)"
      ]
    },
    {
      "cell_type": "markdown",
      "metadata": {
        "id": "q7mUsV4CSOfi"
      },
      "source": [
        "## RAG context template\n"
      ]
    },
    {
      "cell_type": "code",
      "execution_count": null,
      "metadata": {
        "id": "UbbOADVsSWnh"
      },
      "outputs": [],
      "source": [
        "RAG_TPL: str = '\\n'.join([\n",
        "    \"籤名: 【{吉凶}】{詩運} {籤名}-{詩名} \",\n",
        "    \"\\n\",\n",
        "    \"~籤詩~ \",\n",
        "    \"{籤詩}\",\n",
        "    \"\\n\",\n",
        "    \"{詳解}\",\n",
        "    \"\\n\",\n",
        "    \"小廟公建議可參考聖意如下, 不需要全數給求籤者, 若有任何難或不利的訊號, 則建議小心慎重, 正向訊號則可達成! \",\n",
        "    \"{聖意}\",\n",
        "    \"\\n\",\n",
        "    \"潛在的指示為地支「{地支}」, 也可給求籤者做相關提醒: \",\n",
        "    \" - 地理位置代表{方位} \",\n",
        "    \" - 時間為{時間} \",\n",
        "    \" - 十二生肖對應為{生肖}, {生肖特色}, {生肖從事} \",\n",
        "    \" - 五行為「{五行}」, {五行}生{相生}但{五行}剋{相剋}, 若為上籤宜{五行上籤}等, 若為下籤則注意{五行下籤}等 \",\n",
        "])\n",
        "\n",
        "print(RAG_TPL)"
      ]
    },
    {
      "cell_type": "markdown",
      "metadata": {
        "id": "03YrMBmETuNc"
      },
      "source": [
        "## Mapping Table\n",
        "\n",
        "籤詩, 地支, 五行, 時辰, 方位, 生肖..\n",
        "\n",
        "統計: 大吉籤 8 支, 上吉籤 2 支, 上上籤 28 支, 上中籤 4 支, 上平籤 3 支, 上籤 1 支, 中吉、中上、中中、中平、中這個等級類別的籤共 25 支, 平中籤、平平籤、平籤各 1 支, 無標示的籤 25 支, 下下籤 1 支\n",
        "加起來 100 支籤詩, 共 16 個吉凶的等級分類。\n",
        "By [關於聖意] https://vocus.cc/article/60cc311efd8978000139e6c2\n",
        "\n",
        "![](https://s1.astrologs.net/489fa60ffe094cb6b9e431d29164129c332507.jpg)\n",
        "![](https://s1.astrologs.net/00863e956d804118b14f7761085abdaf643933.jpg)\n",
        "![](https://s1.astrologs.net/7b135058418e40c2ad656470a47d0135244692.jpg)\n",
        "![](https://s1.astrologs.net/639bd26c3de946f5876a2df721175f3b511769.jpg)\n",
        "By [星玄説](https://astrologs.net/a/9kog8bd821/)\n"
      ]
    },
    {
      "cell_type": "code",
      "execution_count": null,
      "metadata": {
        "id": "KHgN99xgwo56"
      },
      "outputs": [],
      "source": [
        "# 籤詩數據\n",
        "TOTAL_LOTS = 100\n",
        "UNKNOWN_LOT_RESULT = '__'  # 詩運\n",
        "DEFAULT_RESULT_GROUP = '中籤'\n",
        "LOT_RESULT_GROUPs = ['上籤', '中籤', '下籤']\n",
        "LOT_12_ZIs = ['丑宮', '亥宮', '午宮', '卯宮', '子宮', '寅宮',\n",
        "              '巳宮', '戌宮', '未宮', '申宮', '辰宮', '酉宮']\n",
        "LOT_RESULTs = ['__',  # unknown\n",
        "               '大吉', '上吉', '上上', '上中', '上平', '上',\n",
        "               '中吉', '中上', '中中', '中平', '中',\n",
        "               '平中', '平平', '平',\n",
        "               '下', '下下']\n",
        "LOT_RESULT_MAP = dict(\n",
        "    __='中籤',  # unknown\n",
        "    大吉='上籤',\n",
        "    上吉='上籤',\n",
        "    上上='上籤',\n",
        "    上中='上籤',\n",
        "    上平='上籤',\n",
        "    上='上籤',\n",
        "    中吉='中籤',\n",
        "    中上='中籤',\n",
        "    中中='中籤',\n",
        "    中平='中籤',\n",
        "    中='中籤',\n",
        "    平中='中籤',\n",
        "    平平='中籤',\n",
        "    平='中籤',\n",
        "    下='下籤',\n",
        "    下下='下籤',\n",
        ")\n",
        "\n",
        "# 定義地支、生肖和五行的對應關係\n",
        "ZIs = ['子', '丑', '寅', '卯', '辰', '巳', '午', '未', '申', '酉', '戌', '亥']\n",
        "\n",
        "# FiveElement 五行\n",
        "ELEMENTs = ['金', '木', '水', '火', '土']\n",
        "\n",
        "# 相生 相剋\n",
        "ELEMENT_CYCLE_MAP = dict(\n",
        "    金={'生': '水', '剋': '木'},\n",
        "    木={'生': '火', '剋': '土'},\n",
        "    水={'生': '木', '剋': '火'},\n",
        "    火={'生': '土', '剋': '金'},\n",
        "    土={'生': '金', '剋': '水'},\n",
        ")\n",
        "\n",
        "# 地支 - 生肖\n",
        "ZI_ZODIAC_MAP = dict(\n",
        "    子='鼠',\n",
        "    丑='牛',\n",
        "    寅='虎',\n",
        "    卯='兔',\n",
        "    辰='龍',\n",
        "    巳='蛇',\n",
        "    午='馬',\n",
        "    未='羊',\n",
        "    申='猴',\n",
        "    酉='雞',\n",
        "    戌='狗',\n",
        "    亥='豬'\n",
        ")\n",
        "\n",
        "# 地支 - 五行\n",
        "ZI_ELEMENT_MAP = dict(\n",
        "    子='水',\n",
        "    丑='土',\n",
        "    寅='木',\n",
        "    卯='木',\n",
        "    辰='土',\n",
        "    巳='火',\n",
        "    午='火',\n",
        "    未='土',\n",
        "    申='金',\n",
        "    酉='金',\n",
        "    戌='土',\n",
        "    亥='水'\n",
        ")\n",
        "\n",
        "# 地支 - 四季\n",
        "ZI_SEASON_MAP = dict(\n",
        "    子='冬',\n",
        "    丑='四季',\n",
        "    寅='春',\n",
        "    卯='春',\n",
        "    辰='四季',\n",
        "    巳='夏',\n",
        "    午='夏',\n",
        "    未='四季',\n",
        "    申='秋',\n",
        "    酉='秋',\n",
        "    戌='四季',\n",
        "    亥='冬'\n",
        ")\n",
        "\n",
        "# 地支 - 方位,時辰\n",
        "ZI_LOC_MAP = dict(\n",
        "    子={'location': '北方', 'time': '晚上11點至凌晨1點'},\n",
        "    丑={'location': '東北', 'time': '凌晨1點至3點'},\n",
        "    寅={'location': '東北', 'time': '凌晨3點至5點'},\n",
        "    卯={'location': '東方', 'time': '早上5點至7點'},\n",
        "    辰={'location': '東南', 'time': '早上7點至9點'},\n",
        "    巳={'location': '東南', 'time': '上午9點至11點'},\n",
        "    午={'location': '南方', 'time': '中午11點至下午1點'},\n",
        "    未={'location': '西南', 'time': '下午1點至3點'},\n",
        "    申={'location': '西南', 'time': '下午3點至5點'},\n",
        "    酉={'location': '西方', 'time': '下午5點至7點'},\n",
        "    戌={'location': '西北', 'time': '晚上7點至9點'},\n",
        "    亥={'location': '西北', 'time': '晚上9點至11點'},\n",
        ")\n",
        "\n",
        "# 生肖\n",
        "ZODIACs = ['龍', '兔', '馬', '牛', '蛇', '豬', '羊', '猴', '狗', '鼠', '虎', '雞']\n",
        "\n",
        "# 生肖 - 個性, 從事\n",
        "ZODIAC_ATTR_MAP = dict(\n",
        "    鼠={'personalities': ['機智', '靈活'], 'works': ['適合從事需要快速反應的工作']},\n",
        "    牛={'personalities': ['勤奮', '穩重'], 'works': ['適合從事需要耐力和毅力的工作']},\n",
        "    虎={'personalities': ['勇敢', '冒險'], 'works': ['適合從事需要勇氣和決斷力的工作']},\n",
        "    兔={'personalities': ['溫和', '謹慎'], 'works': ['適合從事需要細心和耐心的工作']},\n",
        "    龍={'personalities': ['自信', '領導'], 'works': ['適合從事需要創新和領導力的工作']},\n",
        "    蛇={'personalities': ['智慧', '神秘'], 'works': ['適合從事需要策略和洞察力的工作']},\n",
        "    馬={'personalities': ['熱情', '奔放'], 'works': ['適合從事需要活力和創意的工作']},\n",
        "    羊={'personalities': ['溫柔', '善良'], 'works': ['適合從事需要關懷和同理心的工作']},\n",
        "    猴={'personalities': ['聰明', '機智'], 'works': ['適合從事需要靈活和創意的工作']},\n",
        "    雞={'personalities': ['勤奮', '細心'], 'works': ['適合從事需要細心和耐心的工作']},\n",
        "    狗={'personalities': ['忠誠', '可靠'], 'works': ['適合從事需要信任和責任感的工作']},\n",
        "    豬={'personalities': ['樂觀', '豁達'], 'works': ['適合從事需要樂觀和積極性的工作']},\n",
        ")\n",
        "\n",
        "# 五行 - goods, bads\n",
        "ELEMENT_ADVICE = dict(\n",
        "    金={\n",
        "        '上籤': ['金融投資', '金屬工藝', '珠寶首飾', '學習理財', '健身鍛煉'],\n",
        "        '下籤': ['過度消費', '金屬傷害', '金融風險', '過度勞累']\n",
        "    },\n",
        "    木={\n",
        "        '上籤': ['園藝種植', '森林散步', '學習新知識', '創意工作', '綠色環保'],\n",
        "        '下籤': ['過度勞累', '木製品傷害', '過度依賴', '環境污染']\n",
        "    },\n",
        "    水={\n",
        "        '上籤': ['旅行', '水邊活動', '游泳', '學習水性', '水療按摩'],\n",
        "        '下籤': ['游泳風險', '水邊活動安全', '過度飲水', '水污染']\n",
        "    },\n",
        "    火={\n",
        "        '上籤': ['烹飪', '熱情工作', '學習新技能', '社交活動', '創意表達'],\n",
        "        '下籤': ['高溫環境', '火災風險', '過度熱情', '火氣過旺']\n",
        "    },\n",
        "    土={\n",
        "        '上籤': ['土地耕作', '建築設計', '學習歷史', '穩定工作', '家庭聚會'],\n",
        "        '下籤': ['過度勞累', '土石傷害', '過度保守', '環境破壞']\n",
        "    }\n",
        ")\n",
        "\n",
        "LOT_CONTEXT_KEYS = ['籤名', '詩名', '詩運', '籤詩', '吉凶', '宮位',\n",
        "                    '詩意', '解曰', '淺釋', '靈籤', '詳解']\n",
        "\n",
        "LOT_PURPOSE_KEYS = [\n",
        "    \"家宅\",\n",
        "    \"自身\",\n",
        "    \"求財\",\n",
        "    \"交易\",\n",
        "    \"婚姻\",\n",
        "    \"六甲\",\n",
        "    \"行人\",\n",
        "    \"田蠶\",\n",
        "    \"六畜\",\n",
        "    \"尋人\",\n",
        "    \"公訟\",\n",
        "    \"移徙\",\n",
        "    \"失物\",\n",
        "    \"疾病\",\n",
        "    \"山墳\"\n",
        "]\n",
        "\n",
        "LOT_PURPOSE_ANSWERS = dict(\n",
        "    家宅={'欠安（大吉）', '先凶后吉', '旺', '大利', '安', '慎出', '利', '平常', '損失', '吉', '若前', '祈保（吉）', '不安', '許願', '口舌', '還願', '不利',\n",
        "        '守舊', '欠安', '大吉', '祈保', '清吉', '平安', '欠利', '平吉', '心只', '憂疑', '中平', '平平', '祈福', '作福', '吉利', '凶', '亂', '不利（漸安）'},\n",
        "    自身={'困滯', '順利', '康泰', '安', '路行', '許經', '平常', '災耗', '秋冬大利', '秋冬旺', '還願（大吉）', '欠吉（凶。注意健康）', '吉', '平', '夏秋吉', '阻', '吉隨', '利安', '平穩', '口舌', '順利（不順）', '還願', '守慎', '順', '謹防',\n",
        "        '不利', '祈保', '提防', '欠利', '欠吉（先凶后吉）', '吉（待運至）', '泰', '謹慎', '小人', '防', '中平', '平平', '冬吉', '秋冬吉', '中吉', '險', '祈福', '阻滯', '作福', '吉利', '安（運滯。唯仁可解）', '是非', '利', '謹防（凶中有吉）'},\n",
        "    求財={'佳順', '中平（休想）', '大利', '難', '順利（甭想）', '未成', '好', '遂', '西方', '秋冬大利', '秋冬旺', '秋旺', '利西', '破', '吉', '阻', '破失', '未有', '著力', '守份', '不平', '大前', '守慎', '順', '不利', '得利', '春利', '遂意',\n",
        "        '欠利', '虛', '微微', '待時', '有', '春旺', '謹慎', '小人', '中平', '秋吉', '平平', '勞力', '合', '秋冬吉', '中吉', '守待', '平常（切忌）', '破耗', '阻滯', '謹守', '未遇', '有利', '頗有', '勞心', '成', '正勝', '順遂', '利'},\n",
        "    交易={'旺', '難', '一可', '未成', '平常', '遂', '損失', '吉', '平', '成（且慢）', '阻', '宜遲', '順利（且慢）', '滯', '難成', '早斷', '諸祭', '勝', '穩', '反覆', '允',\n",
        "        '謹防', '貴人', '不利', '不合', '遂意', '大吉', '諸求', '未指示', '待時', '謹慎', '小人', '中平', '平平', '合', '敗', '破耗', '阻滯', '不成', '遲', '成', '慎重', '利'},\n",
        "    婚姻={'成合', '刑剋', '難', '好合', '未成', '好', '難合', '刑傷', '難順', '阻', '條向', '宜遲', '遂（慎）', '合（遇佳婿）', '遲滯', '不就', '成就', '有阻', '遲成', '事解', '遲合', '隨意',\n",
        "        '事之', '不長', '未許', '不合', '阻隔', '虛', '待時', '未就', '中平', '平平', '就', '未合', '和合', '再合', '合', '中吉', '祈福', '阻滯', '有成', '不成', '遲', '成', '雙配'},\n",
        "    六甲={'安', '有險', '有驚', '生男', '刑損', '阻', '刑劫', '平安（生肖子）', '女', '事順', '喜', '虛驚（有寶）', '防驚', '生女', '添孫', '虛驚', '有虛', '危險',\n",
        "        '平安', '祈保', '虛', '驚', '虛險', '煞旺', '虛（女）', '安（空孕）', '男。驚', '春實秋虛', '險', '祈福', '虛花', '作福', '祈保（空寶。防小產）', '男', '先虛后實'},\n",
        "    行人={'有危', '到', '近', '諸順', '吉', '至', '阻', '未至', '見', '滯', '有災', '有阻', '杳', '順',\n",
        "        '有信', '平安', '祈保', '阻隔', '財更', '未指示', '遲至', '留連', '未回', '困', '阻滯', '動', '遲', '回'},\n",
        "    田蠶={'旺', '半熟', '早種', '好', '晚成', '虧', '功貴', '少收', '七分', '吉', '宜早種', '平', '早生', '晚收', '八分', '阻', '晚勝', '少', '滯', '宜早', '平穩', '晚豐',\n",
        "        '半收', '著力', '晚', '穩', '五分', '十足', '不利', '興', '可養', '損', '熟', '用向', '中平', '秋吉', '多災', '就', '不收', '秋利', '祈福', '秋熟', '缺', '半吉', '利'},\n",
        "    六畜={'旺', '瘟', '難', '安', '大利（失利）', '好', '少收', '平', '阻', '滯', '平穩', '勝', '穩', '不利', '興', '慎吉',\n",
        "        '衰', '春利', '可養', '欠利', '損', '難養', '春旺', '問有', '莫養', '尾利', '中可', '多災', '中平', '成', '勤理', '利'},\n",
        "    尋人={'招非', '難', '西方', '至', '阻', '見', '滯', '見（難）', '杳', '隔', '有信', '遇',\n",
        "        '無蹤', '阻隔', '未指示', '名人', '勤', '事前', '難（見）', '未遇', '遲', '西', '至（凶）', '勞'},\n",
        "    公訟={'虧（莫興）', '擱', '意昌', '盈氣', '有理', '虧', '吉', '宜和', '急斷', '和', '散',\n",
        "        '延', '勝', '有貴人', '反覆', '不利', '驚', '和（即止訟）', '禍', '和（勿興）', '變'},\n",
        "    移徙={'去', '旺', '安', '如意', '宜遷', '平常（甭提）', '平', '吉', '改', '舊安', '舊', '勿動', '莫動', '守', '昌盛',\n",
        "        '隨意', '興', '守舊', '難（遠可）', '不利', '不合', '大吉', '祈保', '欠吉', '更新', '未指示', '待時', '吉（不吉）', '利'},\n",
        "    失物={'東西', '遠', '難', '帶', '西方', '難（空', '在', '北方', '阻', '見', '速尋', '得見', '西北', '空', '東北',\n",
        "        '西方(註：北方屬水。西方屬金）', '無蹤', '虛', '南方', '難尋', '未指示', '不見', '急尋', '西', '南', '即見', '祈福', '東南', '凶', '凶病', '遲見', '無', '難見', '東方'},\n",
        "    疾病={'解', '禳星（得祖蔭）', '安', '有驚', '難痊', '禳星', '安然', '遇良醫', '祈保（凶）', '阻', '祭虎', '犯羅網', '有阻', '延', '喜', '即設送', '拜送（兔年或屬兔凶）', '還願', '反覆', '虛驚', '欠安', '急求神',\n",
        "        '祈保', '設送', '阻隔', '險阻', '未指示', '延安', '憂危', '即痊愈', '設送。安', '秋吉', '即安', '延纏', '求神保佑', '設送（必癒）', '有災險', '求福', '祈福', '犯陰', '還舊願', '作福', '延滯', '遇良方'},\n",
        "    山墳={'安吉', '安', '利', '守舊大吉', '吉', '平', '東西向吉', '改', '暫安', '不安', '西向', '舊吉', '大吉利', '不阻', '宜改', '改向吉', '宜修',\n",
        "        '豐喜', '如吉', '不利', '守舊', '大吉', '絕', '發', '東西吉', '南利', '中平', '擇地', '平平', '敗', '凶', '勿改', '宜舊', '不吉'},\n",
        ")"
      ]
    },
    {
      "cell_type": "markdown",
      "metadata": {
        "id": "mMSvqLrHUMuB"
      },
      "source": [
        "## PoemUtil\n",
        "\n",
        "- Helper class for handling poem-related data\n"
      ]
    },
    {
      "cell_type": "code",
      "execution_count": null,
      "metadata": {
        "id": "YJMUotObUOSd"
      },
      "outputs": [],
      "source": [
        "from pandas import DataFrame\n",
        "\n",
        "\n",
        "class PoemUtil:\n",
        "    \"\"\"Poem(籤詩) helper\"\"\"\n",
        "\n",
        "    RAG_TPL: str = RAG_TPL  # Template for RAG content\n",
        "\n",
        "    @staticmethod\n",
        "    def create_data(id: int) -> dict:\n",
        "        \"\"\"Create a dictionary structure for a poem.\"\"\"\n",
        "\n",
        "        return {\n",
        "            'id': id,\n",
        "            '籤名': '第?首',  # Example: 第九十九首\n",
        "            '詩名': '',  # Poem title\n",
        "            '詩運': '',  # Poem fortune\n",
        "            '籤詩': [],  # Four-line poem\n",
        "            '吉凶': '',  # Fortune type (mapping afterwards)\n",
        "            '宮位': '',  # Earthly branch position\n",
        "            '詩意': '',  # Poem meaning\n",
        "            '解曰': '',  # Interpretation\n",
        "            '聖意': {},  # Divine intentions\n",
        "            '淺釋': '',  # Simplified explanation\n",
        "            '靈籤': '',  # Spiritual significance\n",
        "            '詳解': '',  # Detailed explanation\n",
        "            'img_url': '',  # Image URL\n",
        "            'img_fname': '',  # Image filename\n",
        "        }\n",
        "\n",
        "    @staticmethod\n",
        "    def str_divine(divine_dict: dict) -> str:\n",
        "        \"\"\"Convert a dictionary of 聖意 dictionary into a formatted string.\"\"\"\n",
        "\n",
        "        return '\\n'.join([f'{k}: {v}' for k, v in divine_dict.items()])\n",
        "\n",
        "    @staticmethod\n",
        "    def get_value_by_index(\n",
        "        df: DataFrame,\n",
        "        idx: int,\n",
        "        col_name: str,\n",
        "        default_value=None\n",
        "    ):\n",
        "        \"\"\"Retrieve a value from the DataFrame by index and column name.\"\"\"\n",
        "        try:\n",
        "            return df.loc[idx, col_name]  # Access using label index\n",
        "        except KeyError:\n",
        "            return default_value  # Return default if the column doesn't exist\n",
        "\n",
        "    @staticmethod\n",
        "    def format_rag_content(\n",
        "        df: DataFrame,\n",
        "        lot_idx: int\n",
        "    ) -> str:\n",
        "        \"\"\"Format the RAG content based on the DataFrame and index.\"\"\"\n",
        "\n",
        "        col_value = PoemUtil.get_value_by_index\n",
        "        try:\n",
        "            地支 = col_value(df, lot_idx, '宮位')[0]\n",
        "            五行 = ZI_ELEMENT_MAP[地支]\n",
        "            生肖 = ZI_ZODIAC_MAP[地支]\n",
        "\n",
        "            data = {\n",
        "                '籤名': col_value(df, lot_idx, '籤名'),\n",
        "                '詩名': col_value(df, lot_idx, '詩名'),\n",
        "                '詩運': col_value(df, lot_idx, '詩運'),\n",
        "                '籤詩': '\\n'.join([v.ljust(12) for v in col_value(df, lot_idx, '籤詩')]),\n",
        "                '吉凶': col_value(df, lot_idx, '吉凶'),\n",
        "                '地支': 地支,\n",
        "                '詳解': col_value(df, lot_idx, '詳解'),\n",
        "                '聖意': '\\n'.join([f'{k}: {v}' for k, v in col_value(df, lot_idx, '聖意').items()]),\n",
        "                '方位': ZI_LOC_MAP[地支]['location'],\n",
        "                '時間': ZI_LOC_MAP[地支]['time'],\n",
        "                '生肖': 生肖,\n",
        "                '五行': 五行,\n",
        "                '生肖特色': '、'.join(ZODIAC_ATTR_MAP[生肖]['personalities']),\n",
        "                '生肖從事': '、'.join(ZODIAC_ATTR_MAP[生肖]['works']),\n",
        "                '相生': ELEMENT_CYCLE_MAP[五行]['生'],\n",
        "                '相剋': ELEMENT_CYCLE_MAP[五行]['剋'],\n",
        "                '五行上籤': ', '.join(ELEMENT_ADVICE[五行]['上籤']),\n",
        "                '五行下籤': ', '.join(ELEMENT_ADVICE[五行]['下籤']),\n",
        "            }\n",
        "            return PoemUtil.RAG_TPL.format(**data)\n",
        "        except Exception as e:\n",
        "            print(e)\n",
        "            return None"
      ]
    },
    {
      "cell_type": "markdown",
      "metadata": {
        "id": "VRiUqf9w0UmU"
      },
      "source": [
        "# 2.Web Crawler\n"
      ]
    },
    {
      "cell_type": "markdown",
      "metadata": {
        "id": "h5SfuYWXngcG"
      },
      "source": [
        "## 觀音籤詩 100 首\n",
        "\n",
        "- 財團法人台北市艋舺龍山寺 https://www.lungshan.org.tw/index.php\n",
        "  - [第一首](https://www.lungshan.org.tw/fortune_sticks/page.php?FS_ID=1) 觀音 第一首\n",
        "  - [第一百首](https://www.lungshan.org.tw/fortune_sticks/page.php?FS_ID=100) 觀音 第一百首\n",
        "- 籤詩網 http://www.chance.org.tw/\n",
        "  - [第一籤](http://www.chance.org.tw/籤詩集/觀音一百籤/籤詩網‧觀音一百籤__第001籤.htm) 第一籤 上籤。子宮\n",
        "  - [第一百籤](http://www.chance.org.tw/籤詩集/觀音一百籤/籤詩網‧觀音一百籤__第100籤.htm) 第一百籤 下籤。亥宮\n",
        "- 周公靈簽 https://www.golla.tw/chouqian\n",
        "  - [第一首](https://www.golla.tw/chouqian/zhougong/1.html) 周公靈簽 第一首：宋太祖黃袍加身 上上\n",
        "  - [第一百首](https://www.golla.tw/chouqian/zhougong/100.html) 周公靈簽 第一百首：楚襄王陽台夢醒\n",
        "- 解籤閣 https://wisdomer2002.pixnet.net/blog/post/1965757\n",
        "  - [第一籤](https://fortune-poems.blogspot.com/2013/09/blog-post_11.html) 第一籤 上籤。子宮\n",
        "  - [第一百籤](https://fortune-poems.blogspot.com/2013/09/100_10.html) 第一百籤 下籤。亥宮\n",
        "\n",
        "**籤詩**\n",
        "\n",
        "天開地闢結良緣\n",
        "日吉時良萬事全\n",
        "若得此籤非小可\n",
        "人行中正帝王宣\n",
        "\n",
        "![image](https://www.lungshan.org.tw/fortune_sticks/images/001.jpg)\n"
      ]
    },
    {
      "cell_type": "markdown",
      "metadata": {
        "id": "5ibLo3LbN_-y"
      },
      "source": [
        "## Config (data source)\n"
      ]
    },
    {
      "cell_type": "code",
      "execution_count": null,
      "metadata": {
        "colab": {
          "base_uri": "https://localhost:8080/"
        },
        "id": "miOslE7_Veuq",
        "outputId": "9b08c2c2-c709-44f0-acda-9202d3d0d924"
      },
      "outputs": [
        {
          "name": "stdout",
          "output_type": "stream",
          "text": [
            "time: 775 ms (started: 2024-12-14 10:17:01 +00:00)\n"
          ]
        }
      ],
      "source": [
        "import json\n",
        "import os\n",
        "import re\n",
        "import time\n",
        "import requests\n",
        "\n",
        "from bs4 import BeautifulSoup\n",
        "from pprint import pprint\n",
        "\n",
        "\n",
        "PAGE_SOURCE_MAP = dict(\n",
        "    艋舺龍山寺={\n",
        "        'id': 1,\n",
        "        'base_url': 'https://www.lungshan.org.tw',\n",
        "        'page_url': f'https://www.lungshan.org.tw/fortune_sticks/page.php?FS_ID={{0}}',\n",
        "        'start_idx': '1',  # 1, 2, ...\n",
        "        'img_url': f'https://www.lungshan.org.tw/fortune_sticks/images/{{0:03}}.jpg',\n",
        "        'img_folder': 'images',\n",
        "        'img_fname': f'fortune_{{0}}.jpg',\n",
        "    },\n",
        "    籤詩網={\n",
        "        'id': 2,\n",
        "        'base_url': 'http://www.chance.org.tw',\n",
        "        'page_url': f'http://www.chance.org.tw/籤詩集/觀音一百籤/籤詩網‧觀音一百籤__第{{0:03}}籤.htm',\n",
        "        'start_idx': '001',  # 001, 002, ...\n",
        "        'img_url': f'https://www.lungshan.org.tw/fortune_sticks/images/{{0:03}}.jpg',\n",
        "        'img_folder': 'images',\n",
        "        'img_fname': f'fortune_{{0}}.jpg',\n",
        "    },\n",
        "    周公靈簽={\n",
        "        'id': 3,\n",
        "        'base_url': 'https://www.golla.tw',\n",
        "        'page_url': f'https://www.golla.tw/chouqian/zhougong/{{0}}.html',\n",
        "        'start_idx': '1',  # 1, 2, ..\n",
        "        'img_url': f'https://www.lungshan.org.tw/fortune_sticks/images/{{0:03}}.jpg',\n",
        "        'img_folder': 'images',\n",
        "        'img_fname': f'fortune_{{0}}.jpg',\n",
        "    },\n",
        "    解籤閣={\n",
        "        'id': 4,\n",
        "        'base_url': 'https://www.0961223888.com',\n",
        "        'page_url': f'https://www.0961223888.com/kannon/Kannon{{0}}.htm',\n",
        "        'start_idx': '1',  # 1, 2, ..\n",
        "        'img_url': f'https://www.lungshan.org.tw/fortune_sticks/images/{{0:03}}.jpg',\n",
        "        'img_folder': 'images',\n",
        "        'img_fname': f'fortune_{{0}}.jpg',\n",
        "    },\n",
        ")"
      ]
    },
    {
      "cell_type": "markdown",
      "metadata": {
        "id": "zDud9sql4h1p"
      },
      "source": [
        "## Fetch webpage functions\n"
      ]
    },
    {
      "cell_type": "markdown",
      "metadata": {
        "id": "pu5jnyOaty4N"
      },
      "source": [
        "### source-1: 艋舺龍山寺\n",
        "\n",
        "Major Poem data, but poem explanation is not included.\n",
        "主要取得籤詩的主要資訊, 但不包含解籤\n"
      ]
    },
    {
      "cell_type": "code",
      "execution_count": null,
      "metadata": {
        "colab": {
          "base_uri": "https://localhost:8080/"
        },
        "id": "17MZp6xbbqAW",
        "outputId": "c4682d7c-c9fa-4f09-d1e4-8316d2d1d7d4"
      },
      "outputs": [
        {
          "data": {
            "text/plain": [
              "{'id': 1,\n",
              " 'base_url': 'https://www.lungshan.org.tw',\n",
              " 'page_url': 'https://www.lungshan.org.tw/fortune_sticks/page.php?FS_ID={0}',\n",
              " 'start_idx': '1',\n",
              " 'img_url': 'https://www.lungshan.org.tw/fortune_sticks/images/{0:03}.jpg',\n",
              " 'img_folder': 'images',\n",
              " 'img_fname': 'fortune_{0}.jpg'}"
            ]
          },
          "execution_count": 11,
          "metadata": {},
          "output_type": "execute_result"
        },
        {
          "name": "stdout",
          "output_type": "stream",
          "text": [
            "time: 10.6 ms (started: 2024-12-14 10:17:02 +00:00)\n"
          ]
        }
      ],
      "source": [
        "PAGE_SOURCE_MAP['艋舺龍山寺']"
      ]
    },
    {
      "cell_type": "code",
      "execution_count": null,
      "metadata": {
        "colab": {
          "base_uri": "https://localhost:8080/"
        },
        "id": "bPMLk_wYS857",
        "outputId": "b245b9cd-310f-44ce-a6c2-077fec897c74"
      },
      "outputs": [
        {
          "name": "stdout",
          "output_type": "stream",
          "text": [
            "time: 9.33 ms (started: 2024-12-14 10:17:02 +00:00)\n"
          ]
        }
      ],
      "source": [
        "# Source1 - 艋舺龍山寺\n",
        "def fetch_page_source1(id: int, url: str, debug: bool = False) -> dict:\n",
        "    print(f'Fetching {url}')\n",
        "    try:\n",
        "        # if True:\n",
        "        response = requests.get(url)\n",
        "        response.raise_for_status()\n",
        "\n",
        "        soup = BeautifulSoup(response.content, 'html.parser')\n",
        "\n",
        "        data = PoemUtil.create_data(id)\n",
        "        data['url1'] = url\n",
        "        data['籤名'] = soup.find('h3', class_='mainTitle').text.strip(\n",
        "            '返回').strip().split()[-1]\n",
        "        data['籤詩'] = [line.strip() for line in soup.find(\n",
        "            'h4', string='籤詩').find_next('div').stripped_strings]\n",
        "        data['詩意'] = soup.find('h4', string='詩意').find_next('div').text.strip()\n",
        "        data['解曰'] = soup.find('h4', string='解曰').find_next('div').text.strip()\n",
        "\n",
        "        pairs = [re.sub(r'[^\\S ]+', ' ', line.strip('。 '))\n",
        "                 for line in soup.find('h4', string='聖意').find_next('div').stripped_strings]\n",
        "        if debug:\n",
        "            print(f\"聖意 raw data:\\n{'='*20}{pairs}\")\n",
        "        if pairs:\n",
        "            data['聖意'] = {v[0]: (v[1] if len(v) > 1 else '未指示')\n",
        "                          for x in pairs if x and (v := x.split()) and len(v[0]) == 2}\n",
        "        time.sleep(0.1)\n",
        "        return data\n",
        "    except Exception as e:\n",
        "        print(f'Error fetching or parsing {url}: {e}')\n",
        "        return {}"
      ]
    },
    {
      "cell_type": "markdown",
      "metadata": {
        "id": "kxXwKZDqYALs"
      },
      "source": [
        "### Source-2: 籤詩網 (Deprecated)\n",
        "\n",
        "Simply get Poem's good/bad result, but deprecated now due to lack of structural format.\n",
        "單純取得籤詩的吉凶結果 (資料格式太亂, 已棄用)\n"
      ]
    },
    {
      "cell_type": "markdown",
      "metadata": {
        "id": "kDD_HDC6u5KW"
      },
      "source": [
        "### Source-3: 周公靈簽\n",
        "\n",
        "Aimed to get Poem's explanation\n",
        "主要取得籤詩的解說\n"
      ]
    },
    {
      "cell_type": "code",
      "execution_count": null,
      "metadata": {
        "colab": {
          "base_uri": "https://localhost:8080/"
        },
        "id": "rq09OQQzU228",
        "outputId": "aad40f53-f78a-4271-bb63-dbc9bbf039b3"
      },
      "outputs": [
        {
          "name": "stdout",
          "output_type": "stream",
          "text": [
            "time: 2.81 ms (started: 2024-12-14 10:17:03 +00:00)\n"
          ]
        }
      ],
      "source": [
        "# Source3 - 周公靈簽\n",
        "SOURCE3_PATTERN_HEAD = (\n",
        "    r'''淺釋：(?P<淺釋>.+?)\\s*\\n'''\n",
        "    r'''(?P<解曰>.+?)\\s*\\n(.|\\n)*'''\n",
        ")\n",
        "\n",
        "SOURCE3_PATTERN_MID = (\n",
        "    r'''靈簽之.{1}：(?P<靈籤>.+?)\\s*\\n(.|\\n)*'''\n",
        ")\n",
        "\n",
        "SOURCE3_PATTERN_BOTTOM = (\n",
        "    # r'''(?P<聖意>交易-.+?)?\\s*\\n(.|\\n)*'''\n",
        "    r'''詳解：(?P<詳解>(.|\\n)*)'''\n",
        ")\n",
        "\n",
        "\n",
        "def fetch_page_source3(id: int, url: str, debug: bool = False) -> dict:\n",
        "    print(f'Fetching {url}')\n",
        "    try:\n",
        "        response = requests.get(url)\n",
        "        response.raise_for_status()\n",
        "\n",
        "        soup = BeautifulSoup(response.content, 'html.parser')\n",
        "        data = dict(\n",
        "            詩名='',\n",
        "            詩運='',\n",
        "            解曰='',\n",
        "            淺釋='',\n",
        "            靈籤='',\n",
        "            詳解='',\n",
        "            url3=url,\n",
        "        )\n",
        "\n",
        "        header = soup.find('div', id='entrytitle').find('h1')\n",
        "        if header and header.text:\n",
        "            title = header.text.strip('周公靈簽 ').split()\n",
        "            if len(title) == 1:\n",
        "                data['詩名'] = title[0]\n",
        "                data['詩運'] = UNKNOWN_LOT_RESULT\n",
        "            elif len(title) > 1:\n",
        "                data['詩名'] = title[0]\n",
        "                data['詩運'] = title[1]\n",
        "\n",
        "        body = '\\n'.join([p.text for p in soup.find(\n",
        "            'div', id='entrybody').find_all('p')])\n",
        "        body = body.replace('\\u3000', ' ').replace('交易', '\\n交易').strip()\n",
        "        if debug:\n",
        "            print(f\"body:\\n{'='*20}\")\n",
        "            print(body)\n",
        "\n",
        "        match_head = re.search(SOURCE3_PATTERN_HEAD, body)\n",
        "        if match_head:\n",
        "            group = match_head.groupdict()\n",
        "            data['淺釋'] = group['淺釋'].strip(')').strip(\n",
        "            ) if group['淺釋'] else data['淺釋']\n",
        "            data['解曰'] = group['解曰'].strip() if group['解曰'] else data['解曰']\n",
        "\n",
        "        match_mid = re.search(SOURCE3_PATTERN_MID, body)\n",
        "        if match_mid:\n",
        "            group = match_mid.groupdict()\n",
        "            data['靈籤'] = group['靈籤'].strip().replace(\n",
        "                '本簽', '本籤') if group['靈籤'] else data['靈籤']\n",
        "\n",
        "        match_bottom = re.search(SOURCE3_PATTERN_BOTTOM, body)\n",
        "        if match_bottom:\n",
        "            group = match_bottom.groupdict()\n",
        "            data['詳解'] = group['詳解'].strip().replace(\n",
        "                '此簽', '此籤') if group['詳解'] else data['詳解']\n",
        "\n",
        "        time.sleep(0.1)\n",
        "        return data\n",
        "    except Exception as e:\n",
        "        print(f'Error fetching or parsing {url}: {e}')\n",
        "        return {}"
      ]
    },
    {
      "cell_type": "markdown",
      "metadata": {
        "id": "nvyIJ4XoVto3"
      },
      "source": [
        "### Source-4: 解籤閣\n",
        "\n",
        "Aimed to get Poem's good/bad result and its related EarthlyBranch.\n",
        "取得籤詩的吉凶結果、方位\n",
        "\n",
        "- 來源: 解籤閣 https://wisdomer2002.pixnet.net/blog/post/1965757\n",
        "- 整理: 建軒堂 https://www.0961223888.com/\n"
      ]
    },
    {
      "cell_type": "code",
      "execution_count": null,
      "metadata": {
        "colab": {
          "base_uri": "https://localhost:8080/"
        },
        "id": "Vp6rbtU2CRRF",
        "outputId": "29fd1f68-0b34-4ff4-d919-3822f5f11180"
      },
      "outputs": [
        {
          "name": "stdout",
          "output_type": "stream",
          "text": [
            "time: 1.79 ms (started: 2024-12-14 10:17:05 +00:00)\n"
          ]
        }
      ],
      "source": [
        "# Source4 - 解籤閣\n",
        "def fetch_page_source4(id: int, url: str, debug: bool = False) -> dict:\n",
        "    print(f'Fetching {url}')\n",
        "    try:\n",
        "        response = requests.get(url)\n",
        "        response.raise_for_status()\n",
        "\n",
        "        soup = BeautifulSoup(response.content, 'html.parser')\n",
        "        data = dict(\n",
        "            吉凶='',\n",
        "            宮位='',\n",
        "            url4=url,\n",
        "        )\n",
        "\n",
        "        result = soup.find('table', id='table94').find_all('tr')[\n",
        "            1].find_all(\"td\")[1]\n",
        "        if result and result.text:\n",
        "            texts = result.text.strip().split('。')\n",
        "            data['吉凶'] = texts[0][:2] if len(texts) > 1 else data['吉凶']\n",
        "            data['宮位'] = texts[-1] if len(texts) > 1 else data['宮位']\n",
        "\n",
        "        time.sleep(0.1)\n",
        "        return data\n",
        "    except Exception as e:\n",
        "        print(f'Error fetching or parsing {url}: {e}')\n",
        "        return {}"
      ]
    },
    {
      "cell_type": "markdown",
      "metadata": {
        "id": "hqPE5BFQv5V0"
      },
      "source": [
        "## Fetch image functions\n",
        "\n",
        "Fetch images from source1-艋舺龍山寺網站, 100 images in total.\n",
        "目前透過艋舺龍山寺網站下載, 總共 100 張圖\n"
      ]
    },
    {
      "cell_type": "code",
      "execution_count": null,
      "metadata": {
        "colab": {
          "base_uri": "https://localhost:8080/"
        },
        "id": "_dN8-W1NVwO-",
        "outputId": "61bd7707-697c-4e4e-b4eb-1547bafa2740"
      },
      "outputs": [
        {
          "name": "stdout",
          "output_type": "stream",
          "text": [
            "time: 8.5 ms (started: 2024-12-14 10:17:08 +00:00)\n"
          ]
        }
      ],
      "source": [
        "def fetch_image(id: int,\n",
        "                url: str,\n",
        "                filename: str,\n",
        "                mock: bool = False  # Ignore download if True\n",
        "                ) -> bool:\n",
        "    print(f'Fetching {url}')\n",
        "    try:\n",
        "        if not os.path.exists(os.path.dirname(filename)):\n",
        "            os.makedirs(os.path.dirname(filename))\n",
        "\n",
        "        if mock:\n",
        "            return True\n",
        "\n",
        "        response = requests.get(url, stream=True)\n",
        "        if response.status_code == 200:\n",
        "            with open(filename, 'wb') as f:\n",
        "                for chunk in response.iter_content(1024):\n",
        "                    f.write(chunk)\n",
        "            print(f'Downloaded {filename}')\n",
        "            time.sleep(0.1)\n",
        "            return True\n",
        "        else:\n",
        "            print(f'Failed to download {url}')\n",
        "    except Exception as e:\n",
        "        print(f'Error fetching or parsing {url}: {e}')\n",
        "    return False"
      ]
    },
    {
      "cell_type": "markdown",
      "metadata": {
        "id": "QaDsaYVP7IHR"
      },
      "source": [
        "## Testing\n"
      ]
    },
    {
      "cell_type": "markdown",
      "metadata": {
        "id": "ZGVsMmqt6luh"
      },
      "source": [
        "#### Test source1 - 艋舺龍山寺\n"
      ]
    },
    {
      "cell_type": "code",
      "execution_count": null,
      "metadata": {
        "colab": {
          "base_uri": "https://localhost:8080/"
        },
        "id": "Qd8hTzr_uhaH",
        "outputId": "8597f924-bdd7-4f45-9c02-c1408866dc02"
      },
      "outputs": [
        {
          "name": "stdout",
          "output_type": "stream",
          "text": [
            "Fetching https://www.lungshan.org.tw/fortune_sticks/page.php?FS_ID=99\n",
            "聖意 raw data:\n",
            "====================['*(勒有作策)', '家宅 祈保', '自身 守慎', '求財 破', '交易 阻', '婚姻 刑剋', '六甲 險', '行人 困', '田蠶 損', '六畜 損', '尋人 招非', '公訟 虧', '移徙 守舊', '失物 凶', '疾病 憂危', '山墳 敗']\n",
            "result:\n",
            "====================\n",
            "{'id': 98,\n",
            " 'img_fname': '',\n",
            " 'img_url': '',\n",
            " 'url1': 'https://www.lungshan.org.tw/fortune_sticks/page.php?FS_ID=99',\n",
            " '吉凶': '',\n",
            " '宮位': '',\n",
            " '淺釋': '',\n",
            " '籤名': '第九十九首',\n",
            " '籤詩': ['等閑騎馬着鞭來', '半有憂危半有財', '似火方燒頭上屋', '天教一雨蕩殃災'],\n",
            " '聖意': {'交易': '阻',\n",
            "        '公訟': '虧',\n",
            "        '六甲': '險',\n",
            "        '六畜': '損',\n",
            "        '失物': '凶',\n",
            "        '婚姻': '刑剋',\n",
            "        '家宅': '祈保',\n",
            "        '尋人': '招非',\n",
            "        '山墳': '敗',\n",
            "        '求財': '破',\n",
            "        '田蠶': '損',\n",
            "        '疾病': '憂危',\n",
            "        '移徙': '守舊',\n",
            "        '自身': '守慎',\n",
            "        '行人': '困'},\n",
            " '解曰': '此卦半憂半喜之象。凡事只宜行善也。',\n",
            " '詩名': '',\n",
            " '詩意': '此卦半憂半喜之象。凡事只宜行善也。',\n",
            " '詩運': '',\n",
            " '詳解': '',\n",
            " '靈籤': ''}\n",
            "time: 788 ms (started: 2024-12-14 10:17:02 +00:00)\n"
          ]
        }
      ],
      "source": [
        "# Test source1 - 艋舺龍山寺\n",
        "source = PAGE_SOURCE_MAP['艋舺龍山寺']\n",
        "for n in [99]:\n",
        "    url = source['page_url'].format(n)\n",
        "    data = fetch_page_source1(id=n-1, url=url, debug=True)\n",
        "    print(f\"result:\\n{'='*20}\")\n",
        "    pprint(data)"
      ]
    },
    {
      "cell_type": "markdown",
      "metadata": {
        "id": "NpWDSylN7RMk"
      },
      "source": [
        "#### Test source3 - 周公靈簽\n"
      ]
    },
    {
      "cell_type": "code",
      "execution_count": null,
      "metadata": {
        "colab": {
          "base_uri": "https://localhost:8080/"
        },
        "id": "cLVwV1gRzKkN",
        "outputId": "46a15b96-4e82-4efd-fc0a-13521f0879dd"
      },
      "outputs": [
        {
          "name": "stdout",
          "output_type": "stream",
          "text": [
            "Fetching https://www.golla.tw/chouqian/zhougong/8.html\n",
            "body:\n",
            "====================\n",
            "周公靈簽 第八首：範文公斷虀畫粥 上上\n",
            "  歲寒松柏古栽培，雨雪風霜總不摧\n",
            "  異日必當成大用，功名作個棟樑材\n",
            "  (/chouqian/zhougong/四句淺釋：猶如歲寒中的松柏，根深穩固，縱使天候惡劣、飽受風霜雨淋，也不會因此而被摧折;相信將來有一天一定可以有很大的用途，成為功成名就的棟樑之材。)\n",
            "  平地風光，夙緣有定，豐熟田稻，家獲餘慶。此簽松柏茂葉之象，凡事正直則吉。\n",
            "  靈簽之曰：本簽為松柏之歲寒者。任何之樹木枯之後。仍挺具秀者。各面均呈祥。當異日成大材老焉。是大器晚成型。惟不可因此滿足。必須因此更加培植。事事積德。方可有更好之明日。要之。象徵平地風光夙緣有定。豐熟田稻家獲餘慶。  \n",
            "交易-旺 婚姻-成 求財-順利 自身-順利 家宅-吉 六畜-損 田蠶-利 尋人-至 行人-有信 六甲-生男 山墳-吉 訟詞-有理 疾病-安 失物-見 移徒-吉\n",
            "  詳解：此簽有”事在人為”之意。鼓勵當事人，自強不息。有些人常常虎頭蛇尾，短時間的努力不見成效，就打算放棄。然而會成功的人，背後的打拚必定多於常人，辛苦也不足為外人道。范仲淹畫粥的故事，最令人感佩的即是他過人的耐力、專注的自制力以及經年累月，從不間斷刻苦讀書的精神。就如歲寒松柏，在歷經雨雪風霜的侵襲後，仍然挺立不搖，堅強地存活下來。因此凡事若定下目標，就應全力以赴。切勿輕言放棄導致功敗垂成。只要繼續努力、持之以恆，必能先苦後甘，得到豐碩完美的成果。\n",
            "result:\n",
            "====================\n",
            "{'url3': 'https://www.golla.tw/chouqian/zhougong/8.html',\n",
            " '淺釋': '猶如歲寒中的松柏，根深穩固，縱使天候惡劣、飽受風霜雨淋，也不會因此而被摧折;相信將來有一天一定可以有很大的用途，成為功成名就的棟樑之材。',\n",
            " '解曰': '平地風光，夙緣有定，豐熟田稻，家獲餘慶。此簽松柏茂葉之象，凡事正直則吉。',\n",
            " '詩名': '第八首：範文公斷虀畫粥',\n",
            " '詩運': '上上',\n",
            " '詳解': '此籤有”事在人為”之意。鼓勵當事人，自強不息。有些人常常虎頭蛇尾，短時間的努力不見成效，就打算放棄。然而會成功的人，背後的打拚必定多於常人，辛苦也不足為外人道。范仲淹畫粥的故事，最令人感佩的即是他過人的耐力、專注的自制力以及經年累月，從不間斷刻苦讀書的精神。就如歲寒松柏，在歷經雨雪風霜的侵襲後，仍然挺立不搖，堅強地存活下來。因此凡事若定下目標，就應全力以赴。切勿輕言放棄導致功敗垂成。只要繼續努力、持之以恆，必能先苦後甘，得到豐碩完美的成果。',\n",
            " '靈籤': '本籤為松柏之歲寒者。任何之樹木枯之後。仍挺具秀者。各面均呈祥。當異日成大材老焉。是大器晚成型。惟不可因此滿足。必須因此更加培植。事事積德。方可有更好之明日。要之。象徵平地風光夙緣有定。豐熟田稻家獲餘慶。'}\n",
            "Fetching https://www.golla.tw/chouqian/zhougong/9.html\n",
            "body:\n",
            "====================\n",
            "周公靈簽 第九首：趙韓王半部論語定天下 上上\n",
            "  勞君問我心中事，此意偏宜說向公\n",
            "  一片靈台明似鏡，恰如明月正當空\n",
            "  (/chouqian/zhougong/四句淺釋：辛苦你來問我心中疑慮的事，若能執中無私往這個道理最好;如果心裡清澄如鏡就能透澈事理，就好似天上皎潔的月亮照耀了整個夜空。)\n",
            "  心中正直，理順法寬，天無私意，莫空虛看。此簽皎月當空之象，凡事正直則吉。\n",
            "  靈簽之曰：本簽者皎月當空之象也。凡事正直則吉之簽。雖是前運不佳。前事去之後。漸見順利者。君爾幸獲此簽之示者。平素之存心種德之所由成。後得如此之佳境。亦即是心中正直。理順法寬天無私意莫空虛看。\n",
            "  \n",
            "交易-旺 婚姻-成 求財-平平 自身-順利 家宅-吉 六畜-損 田蠶-利 尋人-至 行人-動 六甲-生男 山墳-吉 訟詞-有理 疾病-得安 失物-祈福 移徒-吉\n",
            "  詳解：此簽有”雜不如精”之意。提醒當事人，凡事融會貫通。大部分的人都覺得，能夠學到的東西越多越好。因此尋求多才多藝，但對單一的技能卻尚未領悟其精髓。\n",
            "  所謂”術業有專攻”，與其學得雜，不如學得精;一門功夫要練到爐火純青，絕非短期內可促成。故事中趙韓王之所以能用半部論語定天下，即是因將所學施展到極致之故。因此不論做什麽事、求什麽學問，務必先紮穩根基、窮究其理;掌握訣竅之後，再經由不斷地揣摩與練習，才能將所學發揮到淋漓盡致，並能舉一反三，轉變為本身特有且難以撼動的絕技。\n",
            "result:\n",
            "====================\n",
            "{'url3': 'https://www.golla.tw/chouqian/zhougong/9.html',\n",
            " '淺釋': '辛苦你來問我心中疑慮的事，若能執中無私往這個道理最好;如果心裡清澄如鏡就能透澈事理，就好似天上皎潔的月亮照耀了整個夜空。',\n",
            " '解曰': '心中正直，理順法寬，天無私意，莫空虛看。此簽皎月當空之象，凡事正直則吉。',\n",
            " '詩名': '第九首：趙韓王半部論語定天下',\n",
            " '詩運': '上上',\n",
            " '詳解': '此籤有”雜不如精”之意。提醒當事人，凡事融會貫通。大部分的人都覺得，能夠學到的東西越多越好。因此尋求多才多藝，但對單一的技能卻尚未領悟其精髓。\\n'\n",
            "       '  '\n",
            "       '所謂”術業有專攻”，與其學得雜，不如學得精;一門功夫要練到爐火純青，絕非短期內可促成。故事中趙韓王之所以能用半部論語定天下，即是因將所學施展到極致之故。因此不論做什麽事、求什麽學問，務必先紮穩根基、窮究其理;掌握訣竅之後，再經由不斷地揣摩與練習，才能將所學發揮到淋漓盡致，並能舉一反三，轉變為本身特有且難以撼動的絕技。',\n",
            " '靈籤': '本籤者皎月當空之象也。凡事正直則吉之簽。雖是前運不佳。前事去之後。漸見順利者。君爾幸獲此簽之示者。平素之存心種德之所由成。後得如此之佳境。亦即是心中正直。理順法寬天無私意莫空虛看。'}\n",
            "Fetching https://www.golla.tw/chouqian/zhougong/84.html\n",
            "body:\n",
            "====================\n",
            "周公靈簽 第八十四首：李廣灞陵夜獵\n",
            "  因名喪德不和同，切忌忙中變作凶\n",
            "  醉後不知何處去，青松影里睡朦朧\n",
            "  (/chouqian/zhougong/四句淺釋：因為虛名而失去道德修養，哪裡能夠得到認同?忙中有錯更恐招來禍患;如人酒後茫茫，東南西北不知何處去，卻是在青松樹下睡著了!)\n",
            "  寒魚離水，美中不足，若問營謀，如何結局。此簽因名喪德之象，凡事勞費心力。\n",
            "  靈簽之曰：本簽者。因名喪德之象。因之。凡事勞費心力而無益者也。為了攫取一己之名利。喪其德行。受世人辱罵。指摘者何用。神靈誡之曰。切忌忙中變作凶。本為善意。惟己之言行中不知不覺中。將善心變為惡而導致凶。易言之。君之命也。寒魚離水美中不足若問營謀如何結局。\n",
            "  詳解： 此簽有”忙中有錯”之意。奉勸當事人，凡事謹言慎行。人在忙碌或無意識的狀態下，很容易說錯話做錯事。也許本身並無惡意，但所謂”覆水難收”，很可能因此而傷害到對方。所以應時刻謹慎小心，注意自己的言行舉止。如果是規勸對方，也不宜因為太過求好心切而口出惡言。否則原本的一番好意卻隨著情緒影響而變質，豈不甚是遺憾。相反地，對於他人的譏諷批評，也不要因此懷恨在心、甚至想找機會報復羞辱回去。須知”己所不欲，勿施於人”，凡事包容寬厚，可讓事情更兩全其美。\n",
            "result:\n",
            "====================\n",
            "{'url3': 'https://www.golla.tw/chouqian/zhougong/84.html',\n",
            " '淺釋': '因為虛名而失去道德修養，哪裡能夠得到認同?忙中有錯更恐招來禍患;如人酒後茫茫，東南西北不知何處去，卻是在青松樹下睡著了!',\n",
            " '解曰': '寒魚離水，美中不足，若問營謀，如何結局。此簽因名喪德之象，凡事勞費心力。',\n",
            " '詩名': '第八十四首：李廣灞陵夜獵',\n",
            " '詩運': '__',\n",
            " '詳解': '此籤有”忙中有錯”之意。奉勸當事人，凡事謹言慎行。人在忙碌或無意識的狀態下，很容易說錯話做錯事。也許本身並無惡意，但所謂”覆水難收”，很可能因此而傷害到對方。所以應時刻謹慎小心，注意自己的言行舉止。如果是規勸對方，也不宜因為太過求好心切而口出惡言。否則原本的一番好意卻隨著情緒影響而變質，豈不甚是遺憾。相反地，對於他人的譏諷批評，也不要因此懷恨在心、甚至想找機會報復羞辱回去。須知”己所不欲，勿施於人”，凡事包容寬厚，可讓事情更兩全其美。',\n",
            " '靈籤': '本籤者。因名喪德之象。因之。凡事勞費心力而無益者也。為了攫取一己之名利。喪其德行。受世人辱罵。指摘者何用。神靈誡之曰。切忌忙中變作凶。本為善意。惟己之言行中不知不覺中。將善心變為惡而導致凶。易言之。君之命也。寒魚離水美中不足若問營謀如何結局。'}\n",
            "Fetching https://www.golla.tw/chouqian/zhougong/22.html\n",
            "body:\n",
            "====================\n",
            "周公靈簽 第二十二首：王孝先為民祈禱 上吉\n",
            "  四郊田畝皆枯竭，久旱俄然三日霖\n",
            "  花果草芽俱潤澤，始知一雨值千金\n",
            "  (/chouqian/zhougong/四句淺釋：四周郊野的田地因為許久的乾旱導致寸草不生，忽然下起了三日的雨;花果根草樹芽因為甘霖的滋潤而重現生機，這才知道一場雨是這麽的值錢。)\n",
            "  田禾倍收，謀望相宜，病逢妙藥，行人便歸。此簽久旱逢雨之象，凡事難中有救。\n",
            "  靈簽之日：久旱逢雨之象。簡易之。遇難中有貴人救之象也。因之。凡事遇難。千萬不能餒志。不能心灰意懶。垂頭喪氣。君汝之命中。凡逢難事。必有貴人來扶之。如行人之有阻。但貴人代之。具有行人來之效。要之。田禾能倍收。謀望相宜。病逢妙藥。行人使之好運者也。\n",
            "  \n",
            "交易-遲 婚姻-合 求財-頗有 自身-安 家宅-祈保 六畜-利 田蠶-利 尋人-難 行人-有阻 六甲-生女 山墳-安吉 訟詞-虧 疾病-設送 失物-西方 移徒-守舊\n",
            "  詳解：此簽有”無刻或忘”之意。鼓勵當事人，常存慈悲心。很多事表面上看來事不關己，其實卻串串相連、牽一髮而動全身。小從我們周遭的人、事、物，乃擴大至國家、整個地球，都與我們息息相關，是每個人共有的責任。凡事由本身做起，秉著”人飢己飢、人溺己溺”的精神，繼而落實在日常生活當中。時刻設身處地為他人著想，處處表達關懷之意。天下沒有不可能的事，切勿輕視小看自己個人的力量。只要有心，無事不可成!\n",
            "result:\n",
            "====================\n",
            "{'url3': 'https://www.golla.tw/chouqian/zhougong/22.html',\n",
            " '淺釋': '四周郊野的田地因為許久的乾旱導致寸草不生，忽然下起了三日的雨;花果根草樹芽因為甘霖的滋潤而重現生機，這才知道一場雨是這麽的值錢。',\n",
            " '解曰': '田禾倍收，謀望相宜，病逢妙藥，行人便歸。此簽久旱逢雨之象，凡事難中有救。',\n",
            " '詩名': '第二十二首：王孝先為民祈禱',\n",
            " '詩運': '上吉',\n",
            " '詳解': '此籤有”無刻或忘”之意。鼓勵當事人，常存慈悲心。很多事表面上看來事不關己，其實卻串串相連、牽一髮而動全身。小從我們周遭的人、事、物，乃擴大至國家、整個地球，都與我們息息相關，是每個人共有的責任。凡事由本身做起，秉著”人飢己飢、人溺己溺”的精神，繼而落實在日常生活當中。時刻設身處地為他人著想，處處表達關懷之意。天下沒有不可能的事，切勿輕視小看自己個人的力量。只要有心，無事不可成!',\n",
            " '靈籤': '久旱逢雨之象。簡易之。遇難中有貴人救之象也。因之。凡事遇難。千萬不能餒志。不能心灰意懶。垂頭喪氣。君汝之命中。凡逢難事。必有貴人來扶之。如行人之有阻。但貴人代之。具有行人來之效。要之。田禾能倍收。謀望相宜。病逢妙藥。行人使之好運者也。'}\n",
            "time: 1.58 s (started: 2024-12-14 10:17:03 +00:00)\n"
          ]
        }
      ],
      "source": [
        "# Test source3 - 周公靈簽\n",
        "source = PAGE_SOURCE_MAP['周公靈簽']\n",
        "for n in [8, 9, 84, 22]:\n",
        "    url = source['page_url'].format(n)\n",
        "    data = fetch_page_source3(id=n-1, url=url, debug=True)\n",
        "    print(f\"result:\\n{'='*20}\")\n",
        "    pprint(data)"
      ]
    },
    {
      "cell_type": "markdown",
      "metadata": {
        "id": "BUtbGsWY7caZ"
      },
      "source": [
        "#### Test source4 - 解籤閣\n"
      ]
    },
    {
      "cell_type": "code",
      "execution_count": null,
      "metadata": {
        "colab": {
          "base_uri": "https://localhost:8080/"
        },
        "id": "eCTAyO_-8HSr",
        "outputId": "9c24add9-c326-4fcb-e30f-98727d77c1f0"
      },
      "outputs": [
        {
          "name": "stdout",
          "output_type": "stream",
          "text": [
            "Fetching https://www.0961223888.com/kannon/Kannon1.htm\n",
            "result:\n",
            "====================\n",
            "{'url4': 'https://www.0961223888.com/kannon/Kannon1.htm',\n",
            " '吉凶': '上籤',\n",
            " '宮位': '子宮'}\n",
            "Fetching https://www.0961223888.com/kannon/Kannon2.htm\n",
            "result:\n",
            "====================\n",
            "{'url4': 'https://www.0961223888.com/kannon/Kannon2.htm',\n",
            " '吉凶': '下籤',\n",
            " '宮位': '子宮'}\n",
            "Fetching https://www.0961223888.com/kannon/Kannon99.htm\n",
            "result:\n",
            "====================\n",
            "{'url4': 'https://www.0961223888.com/kannon/Kannon99.htm',\n",
            " '吉凶': '下籤',\n",
            " '宮位': '亥宮'}\n",
            "Fetching https://www.0961223888.com/kannon/Kannon100.htm\n",
            "result:\n",
            "====================\n",
            "{'url4': 'https://www.0961223888.com/kannon/Kannon100.htm',\n",
            " '吉凶': '下籤',\n",
            " '宮位': '亥宮'}\n",
            "time: 3.3 s (started: 2024-12-14 10:17:05 +00:00)\n"
          ]
        }
      ],
      "source": [
        "# Test source4 - 解籤閣\n",
        "source = PAGE_SOURCE_MAP['解籤閣']\n",
        "for n in [1, 2, 99, 100]:\n",
        "    url = source['page_url'].format(n)\n",
        "    data = fetch_page_source4(id=n-1, url=url, debug=True)\n",
        "    print(f\"result:\\n{'='*20}\")\n",
        "    pprint(data)"
      ]
    },
    {
      "cell_type": "markdown",
      "metadata": {
        "id": "5DJwROVfCemI"
      },
      "source": [
        "### Test image download\n",
        "籤詩圖片\n"
      ]
    },
    {
      "cell_type": "code",
      "execution_count": null,
      "metadata": {
        "colab": {
          "base_uri": "https://localhost:8080/",
          "height": 475
        },
        "id": "QXzXnqNXdMDD",
        "outputId": "777ce0ad-cb79-412a-c5b4-b3214f684fff"
      },
      "outputs": [
        {
          "name": "stdout",
          "output_type": "stream",
          "text": [
            "https://www.lungshan.org.tw/fortune_sticks/images/001.jpg\n",
            "Fetching https://www.lungshan.org.tw/fortune_sticks/images/001.jpg\n",
            "Downloaded images/fortune_1.jpg\n"
          ]
        },
        {
          "data": {
            "image/png": "[encoded data removed]",
            "text/plain": [
              "<Figure size 640x480 with 1 Axes>"
            ]
          },
          "metadata": {},
          "output_type": "display_data"
        },
        {
          "name": "stdout",
          "output_type": "stream",
          "text": [
            "time: 4.1 s (started: 2024-12-14 10:17:08 +00:00)\n"
          ]
        }
      ],
      "source": [
        "# Test image download from 艋舺龍山寺 website\n",
        "n = 1\n",
        "source = PAGE_SOURCE_MAP['艋舺龍山寺']\n",
        "\n",
        "img_url = source['img_url'].format(n)\n",
        "img_fname = os.path.join(source['img_folder'], source['img_fname'].format(n))\n",
        "print(img_url)\n",
        "\n",
        "data = fetch_image(id=n-1, url=img_url, filename=img_fname)\n",
        "plt.imshow(plt.imread(img_fname))\n",
        "plt.axis('off')\n",
        "plt.show()"
      ]
    },
    {
      "cell_type": "markdown",
      "metadata": {
        "id": "_yZJxbM5vrWz"
      },
      "source": [
        "# 3.Aggregation\n",
        "\n",
        "Aggregate all text and image data into centeralized data source.\n",
        "取得籤詩所有關聯的圖文資料\n"
      ]
    },
    {
      "cell_type": "markdown",
      "metadata": {
        "id": "gtG2W2iO594g"
      },
      "source": [
        "## Text\n"
      ]
    },
    {
      "cell_type": "code",
      "execution_count": null,
      "metadata": {
        "colab": {
          "base_uri": "https://localhost:8080/"
        },
        "id": "n77ooJVEVfet",
        "outputId": "9c84cac5-79a1-4398-ce3e-fb394d7bf77b"
      },
      "outputs": [
        {
          "name": "stdout",
          "output_type": "stream",
          "text": [
            "0\n",
            "None\n"
          ]
        }
      ],
      "source": [
        "# INSERT mode\n",
        "ids = range(TOTAL_LOTS)\n",
        "# ids = []  # on demand\n",
        "all_chances = []\n",
        "\n",
        "for id in ids:\n",
        "    n = id + 1\n",
        "    src = PAGE_SOURCE_MAP['艋舺龍山寺']\n",
        "    data = fetch_page_source1(id=id, url=src['page_url'].format(n))\n",
        "\n",
        "    src = PAGE_SOURCE_MAP['周公靈簽']\n",
        "    data_ext = fetch_page_source3(id=id, url=src['page_url'].format(n))\n",
        "    data.update(data_ext)\n",
        "\n",
        "    src = PAGE_SOURCE_MAP['解籤閣']\n",
        "    data_ext = fetch_page_source4(id=id, url=src['page_url'].format(n))\n",
        "    data.update(data_ext)\n",
        "\n",
        "    all_chances.append(data)\n",
        "\n",
        "print(len(all_chances))\n",
        "pprint(all_chances[0] if len(all_chances) > 0 else None)"
      ]
    },
    {
      "cell_type": "code",
      "execution_count": null,
      "metadata": {
        "id": "LcdHGRakTIFz"
      },
      "outputs": [],
      "source": [
        "# UPDATE mode\n",
        "# ids = [x['id'] for x in all_chances]\n",
        "ids = []  # on demand\n",
        "\n",
        "for id in ids:\n",
        "    data = all_chances[id]\n",
        "    n = id + 1\n",
        "\n",
        "    # src = PAGE_SOURCE_MAP['艋舺龍山寺']\n",
        "    # data_ext = fetch_page_source1(id=id, url=src['page_url'].format(n))\n",
        "    # data.update(data_ext)\n",
        "\n",
        "    # src = PAGE_SOURCE_MAP['周公靈簽']\n",
        "    # data_ext = fetch_page_source3(id=id, url=src['page_url'].format(n))\n",
        "    # data.update(data_ext)\n",
        "\n",
        "    # src = PAGE_SOURCE_MAP['解籤閣']\n",
        "    # data_ext = fetch_page_source4(id=id, url=src['page_url'].format(n))\n",
        "    # data.update(data_ext)"
      ]
    },
    {
      "cell_type": "code",
      "execution_count": null,
      "metadata": {
        "id": "nLWU5mKaf45Q"
      },
      "outputs": [],
      "source": [
        "n = 48\n",
        "all_chances[n-1] if len(all_chances) > 0 else None"
      ]
    },
    {
      "cell_type": "markdown",
      "metadata": {
        "id": "vXAct6a56I5l"
      },
      "source": [
        "## Images\n"
      ]
    },
    {
      "cell_type": "code",
      "execution_count": null,
      "metadata": {
        "colab": {
          "base_uri": "https://localhost:8080/"
        },
        "id": "HjfnTLdfofwU",
        "outputId": "f3bb2eae-8346-4c83-c83c-12c51d585b2c"
      },
      "outputs": [
        {
          "name": "stdout",
          "output_type": "stream",
          "text": [
            "Archive:  images-觀音100籤詩.zip\n",
            "  inflating: images/fortune_87.jpg   \n",
            "  inflating: images/fortune_96.jpg   \n",
            "  inflating: images/fortune_11.jpg   \n",
            "  inflating: images/fortune_53.jpg   \n",
            "  inflating: images/fortune_51.jpg   \n",
            "  inflating: images/fortune_73.jpg   \n",
            "  inflating: images/fortune_6.jpg    \n",
            "  inflating: images/fortune_33.jpg   \n",
            "  inflating: images/fortune_90.jpg   \n",
            "  inflating: images/fortune_43.jpg   \n",
            "  inflating: images/fortune_30.jpg   \n",
            "  inflating: images/fortune_60.jpg   \n",
            "  inflating: images/fortune_45.jpg   \n",
            "  inflating: images/fortune_52.jpg   \n",
            "  inflating: images/fortune_8.jpg    \n",
            "  inflating: images/fortune_10.jpg   \n",
            "  inflating: images/fortune_15.jpg   \n",
            "  inflating: images/fortune_46.jpg   \n",
            "  inflating: images/fortune_34.jpg   \n",
            "  inflating: images/fortune_62.jpg   \n",
            "  inflating: images/fortune_25.jpg   \n",
            "  inflating: images/fortune_31.jpg   \n",
            "  inflating: images/fortune_100.jpg  \n",
            "  inflating: images/fortune_95.jpg   \n",
            "  inflating: images/fortune_27.jpg   \n",
            "  inflating: images/fortune_98.jpg   \n",
            "  inflating: images/fortune_50.jpg   \n",
            "  inflating: images/fortune_16.jpg   \n",
            "  inflating: images/fortune_61.jpg   \n",
            "  inflating: images/fortune_35.jpg   \n",
            "  inflating: images/fortune_88.jpg   \n",
            "  inflating: images/fortune_7.jpg    \n",
            "  inflating: images/fortune_97.jpg   \n",
            "  inflating: images/fortune_58.jpg   \n",
            "  inflating: images/fortune_49.jpg   \n",
            "  inflating: images/fortune_63.jpg   \n",
            "  inflating: images/fortune_65.jpg   \n",
            "  inflating: images/fortune_40.jpg   \n",
            "  inflating: images/fortune_99.jpg   \n",
            "  inflating: images/fortune_83.jpg   \n",
            "  inflating: images/fortune_13.jpg   \n",
            "  inflating: images/fortune_14.jpg   \n",
            "  inflating: images/fortune_32.jpg   \n",
            "  inflating: images/fortune_47.jpg   \n",
            "  inflating: images/fortune_29.jpg   \n",
            "  inflating: images/fortune_19.jpg   \n",
            "  inflating: images/fortune_80.jpg   \n",
            "  inflating: images/fortune_66.jpg   \n",
            "  inflating: images/fortune_77.jpg   \n",
            "  inflating: images/fortune_20.jpg   \n",
            "  inflating: images/fortune_48.jpg   \n",
            "  inflating: images/fortune_79.jpg   \n",
            "  inflating: images/fortune_26.jpg   \n",
            "  inflating: images/fortune_74.jpg   \n",
            "  inflating: images/fortune_93.jpg   \n",
            "  inflating: images/fortune_59.jpg   \n",
            "  inflating: images/fortune_78.jpg   \n",
            "  inflating: images/fortune_3.jpg    \n",
            "  inflating: images/fortune_36.jpg   \n",
            "  inflating: images/fortune_84.jpg   \n",
            "  inflating: images/fortune_4.jpg    \n",
            "  inflating: images/fortune_85.jpg   \n",
            "  inflating: images/fortune_9.jpg    \n",
            "  inflating: images/fortune_44.jpg   \n",
            "  inflating: images/fortune_67.jpg   \n",
            "  inflating: images/fortune_81.jpg   \n",
            "  inflating: images/fortune_57.jpg   \n",
            "  inflating: images/fortune_68.jpg   \n",
            "  inflating: images/fortune_21.jpg   \n",
            "  inflating: images/fortune_5.jpg    \n",
            "  inflating: images/fortune_42.jpg   \n",
            "  inflating: images/fortune_56.jpg   \n",
            "  inflating: images/fortune_54.jpg   \n",
            "  inflating: images/fortune_70.jpg   \n",
            "  inflating: images/fortune_86.jpg   \n",
            "  inflating: images/fortune_18.jpg   \n",
            "  inflating: images/fortune_22.jpg   \n",
            "  inflating: images/fortune_37.jpg   \n",
            "  inflating: images/fortune_39.jpg   \n",
            "  inflating: images/fortune_2.jpg    \n",
            "  inflating: images/fortune_23.jpg   \n",
            "  inflating: images/fortune_72.jpg   \n",
            "  inflating: images/fortune_64.jpg   \n",
            "  inflating: images/fortune_75.jpg   \n",
            "  inflating: images/fortune_91.jpg   \n",
            "  inflating: images/fortune_82.jpg   \n",
            "  inflating: images/fortune_94.jpg   \n",
            "  inflating: images/fortune_1.jpg    \n",
            "  inflating: images/fortune_28.jpg   \n",
            "  inflating: images/fortune_71.jpg   \n",
            "  inflating: images/fortune_89.jpg   \n",
            "  inflating: images/fortune_41.jpg   \n",
            "  inflating: images/fortune_69.jpg   \n",
            "  inflating: images/fortune_55.jpg   \n",
            "  inflating: images/fortune_92.jpg   \n",
            "  inflating: images/fortune_12.jpg   \n",
            "  inflating: images/fortune_76.jpg   \n",
            "  inflating: images/fortune_17.jpg   \n",
            "  inflating: images/fortune_38.jpg   \n",
            "  inflating: images/fortune_24.jpg   \n",
            "time: 2.33 s (started: 2024-12-14 10:22:38 +00:00)\n"
          ]
        }
      ],
      "source": [
        "# !unzip -o 'images-觀音100籤詩.zip'"
      ]
    },
    {
      "cell_type": "code",
      "execution_count": null,
      "metadata": {
        "colab": {
          "base_uri": "https://localhost:8080/"
        },
        "id": "cjvjW3A8gztm",
        "outputId": "a872ad19-2393-443b-b065-8cfaccc1ada7"
      },
      "outputs": [
        {
          "data": {
            "text/plain": [
              "0"
            ]
          },
          "execution_count": 36,
          "metadata": {},
          "output_type": "execute_result"
        }
      ],
      "source": [
        "len([x for x in all_chances if not x['img_fname']])"
      ]
    },
    {
      "cell_type": "code",
      "execution_count": null,
      "metadata": {
        "id": "9WIJzBZmejX9"
      },
      "outputs": [],
      "source": [
        "# Start downloading images ...\n",
        "if len(all_chances) == TOTAL_LOTS:\n",
        "    for data in [x for x in all_chances if not x['img_fname']]:\n",
        "        src = PAGE_SOURCE_MAP['艋舺龍山寺']\n",
        "        id = data['id']\n",
        "        n = id + 1\n",
        "        img_url = src['img_url'].format(n)\n",
        "        img_fname = os.path.join(src['img_folder'], src['img_fname'].format(n))\n",
        "        data['img_url'] = img_url\n",
        "\n",
        "        result = fetch_image(\n",
        "            id=id,\n",
        "            url=img_url,\n",
        "            filename=img_fname,\n",
        "            mock=True  # True: 不下載圖片\n",
        "        )\n",
        "        if result:\n",
        "            data['img_fname'] = img_fname"
      ]
    },
    {
      "cell_type": "code",
      "execution_count": null,
      "metadata": {
        "colab": {
          "base_uri": "https://localhost:8080/"
        },
        "id": "kyCuHo0yhFRq",
        "outputId": "5edbe933-c321-4df9-8da3-1e1ffc142d4e"
      },
      "outputs": [
        {
          "data": {
            "text/plain": [
              "0"
            ]
          },
          "execution_count": 40,
          "metadata": {},
          "output_type": "execute_result"
        }
      ],
      "source": [
        "len([x for x in all_chances if not x['img_fname']])"
      ]
    },
    {
      "cell_type": "code",
      "execution_count": null,
      "metadata": {
        "id": "8VeetwGXrLGQ"
      },
      "outputs": [],
      "source": [
        "# !zip -r images.zip images"
      ]
    },
    {
      "cell_type": "markdown",
      "metadata": {
        "id": "AImUMubLp4yT"
      },
      "source": [
        "## Data Cleaning\n"
      ]
    },
    {
      "cell_type": "code",
      "execution_count": null,
      "metadata": {
        "colab": {
          "base_uri": "https://localhost:8080/"
        },
        "id": "Yve4Rg0H6kUw",
        "outputId": "6046e0bf-456c-4891-9ab6-add133b27bc6"
      },
      "outputs": [
        {
          "name": "stdout",
          "output_type": "stream",
          "text": [
            "{'id': 22,\n",
            " 'img_fname': 'images/fortune_23.jpg',\n",
            " 'img_url': 'https://www.lungshan.org.tw/fortune_sticks/images/023.jpg',\n",
            " 'url1': 'https://www.lungshan.org.tw/fortune_sticks/page.php?FS_ID=23',\n",
            " 'url2': 'https://www.0961223888.com/kannon/Kannon23.htm',\n",
            " 'url3': 'https://www.golla.tw/chouqian/zhougong/23.html',\n",
            " 'url4': 'https://www.sheup.org/winfo/7/872.html',\n",
            " '吉凶': '中籤',\n",
            " '宮位': '巳宮',\n",
            " '淺釋': '想要藉由桂樹爬上仙宮去，只怕天門不會就此為你開放;把所求的計畫降低標準，自有高人送上山頂，指引通達的途徑。',\n",
            " '籤名': '第二十三首',\n",
            " '籤詩': ['欲攀仙桂蟾宮去', '豈慮天門不放開', '謀望一般音信好', '高人自送嶺頭來'],\n",
            " '聖意': {'交易': '合',\n",
            "        '公訟': '虧',\n",
            "        '六甲': '作福',\n",
            "        '六畜': '不利',\n",
            "        '失物': '未指示',\n",
            "        '婚姻': '阻',\n",
            "        '家宅': '欠安',\n",
            "        '尋人': '難',\n",
            "        '山墳': '舊吉',\n",
            "        '求財': '遂意',\n",
            "        '田蠶': '不利',\n",
            "        '疾病': '安',\n",
            "        '移徙': '欠吉',\n",
            "        '自身': '作福',\n",
            "        '行人': '有危'},\n",
            " '解曰': '商賈利益，行藏無危，病安訟理，盡可施為。此簽望仙扳桂之象，凡事必遇貴人。',\n",
            " '詩名': '孫策以璽借袁兵',\n",
            " '詩意': '此卦手扳仙桂之象。凡事必有貴人也。',\n",
            " '詩運': '上平',\n",
            " '詳解': '此籤有\"拋磚引玉\"之意。提醒當事人，施比受有福。在人與人的交往中，應主動而真誠的關心他人、了解他人的需要，在自己的能力範圍之內，盡力幫忙協助、不求回報。所謂\"助人為快樂之本\"，成就別人，也就是成就自己。對於本身所擁有的事物，不須看得太重，應能懂得取捨，不要吝於付出。無須害怕失去，應知有舍才有得。精神上的快樂充盈，絕對大於物質上的享受。',\n",
            " '靈籤': '本籤為望仙扳桂之象。凡事必能遇貲人之象者。雖屬上平。惟宜多作福。求神庇佑之。方有化凶趨吉之時。到頭。君汝謀望一般喜訊好。高人。貴人也。日將佳音報之而來。要之。商賈者有利。行藏無危。病可安。訟可理。盡可施為。'}\n"
          ]
        }
      ],
      "source": [
        "# Preview Poem #23 in data source.\n",
        "pprint(all_chances[22] if len(all_chances) > 0 else None)"
      ]
    },
    {
      "cell_type": "code",
      "execution_count": null,
      "metadata": {
        "colab": {
          "base_uri": "https://localhost:8080/"
        },
        "id": "vkR3epyd6xdR",
        "outputId": "8d9d9067-9111-425d-9d79-6339fe8be2ae"
      },
      "outputs": [
        {
          "name": "stdout",
          "output_type": "stream",
          "text": [
            "offset_id=0\n",
            "0==0 content=【第一首 上上 上籤】此籤有\"謀事在人\"之意。提醒當事人，未雨\n",
            "1==1 content=【第二首 中 下籤】此籤有\"守時待勢\"之意。意味當事人，隨遇\n",
            "2==2 content=【第三首 __ 下籤】此籤有\"束手無策\"之意。奉勸當事人，勿舉\n",
            "3==3 content=【第四首 中中 上籤】此籤有\"歷久彌堅\"之意。意味當事人，不改\n",
            "4==4 content=【第五首 中平 中籤】此籤有\"休戚相關\"之意。意味當事人，推誠\n",
            "5==5 content=【第六首 中平 中籤】此籤有\"見機行事\"之意。意味當事人，智勇\n",
            "6==6 content=【第七首 __ 下籤】此籤有\"一念之差\"之意。奉勸當事人，三思\n",
            "7==7 content=【第八首 上上 上籤】此籤有\"事在人為\"之意。鼓勵當事人，自強\n",
            "8==8 content=【第九首 上上 上籤】此籤有\"雜不如精\"之意。提醒當事人，凡事\n",
            "9==9 content=【第十首 __ 中籤】此籤有\"枉費心機\"之意。奉勸當事人，凡事\n",
            "10==10 content=【第十一首 上上 上籤】此籤有\"見機行事\"之意。提醒當事人，凡事\n",
            "11==11 content=【第十二首 上上 上籤】此籤有\"勇往直前\"之意。鼓勵當事人，百折\n",
            "12==12 content=【第十三首 上上 中籤】此籤有\"謙讓未遑\"之意。提醒當事人，施恩\n",
            "13==13 content=【第十四首 大吉 上籤】此籤有\"公私分明\"之意。提醒當事人，豁達\n",
            "14==14 content=【第十五首 __ 中籤】此籤有\"自食惡果\"之意。奉勸當事人，勿一\n",
            "15==15 content=【第十六首 中上 中籤】此籤有\"忠言逆耳\"之意。意味當事人，飲水\n",
            "16==16 content=【第十七首 中 中籤】此籤有\"居心叵測\"之意。奉勸當事人，勿心\n",
            "17==17 content=【第十八首 上上 上籤】此籤有\"言之成理\"之意。提醒當事人，勿過\n",
            "18==18 content=【第十九首 中 中籤】此籤有\"自甘墮落\"之意。意味當事人，勿隨\n",
            "19==19 content=【第二十首 上上 中籤】此籤有\"苦盡甘來\"之意。鼓勵當事人，堅持\n",
            "20==20 content=【第二十一首 上吉 上籤】此籤有\"一探究竟\"之意。鼓勵當事人，保持\n",
            "21==21 content=【第二十二首 上吉 上籤】此籤有\"無刻或忘\"之意。鼓勵當事人，常存\n",
            "22==22 content=【第二十三首 上平 中籤】此籤有\"拋磚引玉\"之意。提醒當事人，施比\n",
            "23==23 content=【第二十四首 __ 下籤】此籤有\"執迷不悟\"之意。奉勸當事人，須知\n",
            "24==24 content=【第二十五首 上中 中籤】此籤有\"有驚無險\"之意。提醒當事人，勿自\n",
            "25==25 content=【第二十六首 平 中籤】此籤有\"誤會一場\"之意。奉勸當事人，凡事\n",
            "26==26 content=【第二十七首 中中 中籤】此籤有\"戒慎恐懼\"之意。提醒當事人，凡事\n",
            "27==27 content=【第二十八首 上上 中籤】此籤有\"幸得援手\"之意。提醒當事人，凡事\n",
            "28==28 content=【第二十九首 大吉 上籤】此籤有\"尋求他志\"之意。鼓勵當事人，專精\n",
            "29==29 content=【第三十首 __ 中籤】此籤有\"誤信人言\"之意。奉勸當事人，應有\n",
            "30==30 content=【第三十一首 __ 中籤】此籤有\"思緒雜亂\"之意。奉勸當事人，不要\n",
            "31==31 content=【第三十二首 __ 中籤】此籤有\"尋人捉刀\"之意。奉勸當事人，凡事\n",
            "32==32 content=【第三十三首 中中 中籤】此籤有\"就事論事\"之意。意味當事人，凡事\n",
            "33==33 content=【第三十四首 上上 中籤】此籤有\"事無絕對\"之意。意味當事人，勿太\n",
            "34==34 content=【第三十五首 上上 中籤】此籤有\"飲水思源\"之意。提醒當事人，不要\n",
            "35==35 content=【第三十六首 上上 中籤】此籤有\"居安思危\"之意。提醒當事人，小心\n",
            "36==36 content=【第三十七首 平平 中籤】此籤有\"漠不關心\"之意。提醒當事人，勿太\n",
            "37==37 content=【第三十八首 中平 下籤】此籤有\"急躁武斷\"之意。意味當事人，小不\n",
            "38==38 content=【第三十九首 __ 下籤】此籤有\"積怨難消\"之意。奉勸當事人，勿存\n",
            "39==39 content=【第四十首 平中 中籤】此籤有\"知禮盡孝\"之意。意味當事人，不論\n",
            "40==40 content=【第四十一首 __ 中籤】此籤有\"貪多必失\"之意。奉勸當事人，凡事\n",
            "41==41 content=【第四十二首 上 上籤】此籤有\"順勢而為\"之意。提醒當事人，凡事\n",
            "42==42 content=【第四十三首 大吉 上籤】此籤有\"不拘小節\"之意。提醒當事人，不要\n",
            "43==43 content=【第四十四首 中中 中籤】此籤有\"多方思考\"之意。意味當事人，謀定\n",
            "44==44 content=【第四十五首 上上 中籤】此籤有\"千錘百鏈\"之意。勉勵當事人，凡事\n",
            "45==45 content=【第四十六首 上平 中籤】此籤有\"隨緣自在\"之意。意味當事人，人貴\n",
            "46==46 content=【第四十七首 上上 上籤】此籤有\"努力向上\"之意。鼓勵當事人，凡事\n",
            "47==47 content=【第四十八首 大吉 上籤】此籤有\"膽大心細\"之意。提醒當事人，智勇\n",
            "48==48 content=【第四十九首 __ 中籤】此籤有\"自尋死路\"之意。奉勸當事人，莫心\n",
            "49==49 content=【第五十首 大吉 上籤】此籤有\"友善關懷\"之意。提醒當事人，互助\n",
            "50==50 content=【第五十一首 上平 上籤】此籤有\"坦然面對\"之意。提醒當事人，知己\n",
            "51==51 content=【第五十二首 __ 中籤】此籤有\"枉費心力\"之意。奉勸當事人，眼見\n",
            "52==52 content=【第五十三首 上上 中籤】此籤有\"收放自如\"之意。提醒當事人，凡事\n",
            "53==53 content=【第五十四首 __ 下籤】此籤有\"南柯一夢\"之意。奉勸當事人，勿痴\n",
            "54==54 content=【第五十五首 大吉 上籤】此籤有\"失控惹禍\"之意。提醒當事人，遇事\n",
            "55==55 content=【第五十六首 中平 中籤】此籤有\"功成身退\"之意。意味當事人，凡事\n",
            "56==56 content=【第五十七首 上中 中籤】此籤有\"隨機應變\"之意。鼓勵當事人，積極\n",
            "57==57 content=【第五十八首 中中 中籤】此籤有\"虛心求教\"之意。告誡當事人，勿恃\n",
            "58==58 content=【第五十九首 中平 中籤】此籤有\"是非難斷\"之意。告誡當事人，喜惡\n",
            "59==59 content=【第六十首 __ 下籤】此籤有\"心浮氣躁\"之意。奉勸當事人，儘量\n",
            "60==60 content=【第六十一首 大吉 上籤】此籤有\"不可貌相\"之意。鼓勵當事人，要有\n",
            "61==61 content=【第六十二首 中中 中籤】此籤有\"人善被欺\"之意。意味當事人，勿灰\n",
            "62==62 content=【第六十三首 __ 中籤】此籤有\"刻苦磨練\"之意。奉勸當事人，勿輕\n",
            "63==63 content=【第六十四首 __ 下籤】此籤有\"禍從口出\"之意。奉勸當事人，勿心\n",
            "64==64 content=【第六十五首 __ 下籤】此籤有\"自作主張\"之意。奉勸當事人，不要\n",
            "65==65 content=【第六十六首 __ 下籤】此籤有\"六神無主\"之意。奉勸當事人，勿心\n",
            "66==66 content=【第六十七首 上上 上籤】此籤有\"樂善好施\"之意。提醒當事人，適度\n",
            "67==67 content=【第六十八首 上上 中籤】此籤有\"世代傳承\"之意。提醒當事人，保持\n",
            "68==68 content=【第六十九首 中上 中籤】此籤有\"沉冤得雪\"之意。意味當事人，不要\n",
            "69==69 content=【第七十首 __ 下籤】此籤有\"事與願違\"之意。奉勸當事人，勿一\n",
            "70==70 content=【第七十一首 上上 中籤】此籤有\"眾志成城\"之意。提醒當事人，團結\n",
            "71==71 content=【第七十二首 中吉 中籤】此籤有\"寄人籬下\"之意。意味當事人，凡事\n",
            "72==72 content=【第七十三首 上上 上籤】此籤有\"伯樂相馬\"之意。提醒當事人，要沈\n",
            "73==73 content=【第七十四首 __ 下籤】此籤有\"難容二虎\"之意。奉勸當事人，思慮\n",
            "74==74 content=【第七十五首 中 下籤】此籤有\"未雨綢繆\"之意。意味當事人，凡事\n",
            "75==75 content=【第七十六首 上上 下籤】此籤有\"常持善念\"之意。提醒當事人，多多\n",
            "76==76 content=【第七十七首 __ 中籤】此籤有\"笑裡藏刀\"之意。奉勸當事人，勿心\n",
            "77==77 content=【第七十八首 上中 上籤】此籤有\"人外有人\"之意。提醒當事人，凡事\n",
            "78==78 content=【第七十九首 上中 中籤】此籤有\"一諾千金\"之意。提醒當事人，信守\n",
            "79==79 content=【第八十首 上上 上籤】此籤有\"身先士卒\"之意。鼓勵當事人，凡事\n",
            "80==80 content=【第八十一首 中中 上籤】此籤有\"謀事在人\"之意。意味當事人，凡事\n",
            "81==81 content=【第八十二首 中中 中籤】此籤有\"因人而異\"之意。意味當事人，不要\n",
            "82==82 content=【第八十三首 中上 中籤】此籤有\"凡事適中\"之意。意味當事人，量入\n",
            "83==83 content=【第八十四首 __ 下籤】此籤有\"忙中有錯\"之意。奉勸當事人，凡事\n",
            "84==84 content=【第八十五首 上上 中籤】此籤有\"百折不撓\"之意。提醒當事人，凡事\n",
            "85==85 content=【第八十六首 大吉 上籤】此籤有\"念茲在茲\"之意。意味當事人，任重\n",
            "86==86 content=【第八十七首 中平 上籤】此籤有\"柳暗花明\"之意。勉勵當事人，凡事\n",
            "87==87 content=【第八十八首 __ 中籤】此籤有\"揠苗助長\"之意。奉勸當事人，凡事\n",
            "88==88 content=【第八十九首 上上 上籤】此籤有\"有志竟成\"之意。提醒當事人，事在\n",
            "89==89 content=【第九十首 上上 上籤】此籤有\"深入人心\"之意。提醒當事人，凡事\n",
            "90==90 content=【第九十一首 上上 中籤】此籤有\"萬全準備\"之意。提醒當事人，凡事\n",
            "91==91 content=【第九十二首 上上 上籤】此籤有\"擇善固執\"之意。提醒當事人，凡事\n",
            "92==92 content=【第九十三首 中中 中籤】此籤有\"邪不勝正\"之意。意味當事人，保持\n",
            "93==93 content=【第九十四首 中中 下籤】此籤有\"爭不如靜\"之意。提醒當事人，凡事\n",
            "94==94 content=【第九十五首 上上 中籤】此籤有\"勤勉奮發\"之意。勉勵當事人，凡事\n",
            "95==95 content=【第九十六首 上上 上籤】此籤有\"終能如願\"之意。鼓勵當事人，凡事\n",
            "96==96 content=【第九十七首 __ 中籤】此籤有\"慾念無窮\"之意。奉勸當事人，凡事\n",
            "97==97 content=【第九十八首 __ 下籤】此籤有\"藉口逃避\"之意。奉勸當事人，凡事\n",
            "98==98 content=【第九十九首 中平 下籤】此籤有\"禍福未定\"之意。提醒當事人，凡事\n",
            "99==99 content=【第一百首 __ 下籤】此籤有\"不切實際\"之意。奉勸當事人，凡事\n"
          ]
        }
      ],
      "source": [
        "import re\n",
        "\n",
        "\n",
        "def convert詩運to吉凶(text: str, default: str = \"中籤\") -> str:\n",
        "    first = text[1] if text else default\n",
        "    match first:\n",
        "        case \"大\": return \"上籤\"\n",
        "        case \"上\": return \"上籤\"\n",
        "        case \"中\": return \"中籤\"\n",
        "        case \"平\": return \"中籤\"\n",
        "        case \"下\": return \"下籤\"\n",
        "        case _:\n",
        "            return default\n",
        "\n",
        "\n",
        "offset_id = min([v[\"id\"] for v in all_chances])\n",
        "print(f\"{offset_id=}\")  # update to zero-based index\n",
        "\n",
        "\n",
        "# # 移除特殊字元, 格式化資料\n",
        "for id, v in enumerate(all_chances):\n",
        "    詩名 = v[\"詩名\"].split(\"：\")[-1]\n",
        "    詩運 = v[\"詩運\"] or \"\"\n",
        "    if not 詩運 or (詩運 not in LOT_RESULTs):\n",
        "        詩運 = UNKNOWN_LOT_RESULT\n",
        "\n",
        "    吉凶 = v[\"吉凶\"]\n",
        "    if 詩運 == \"大吉\" and 吉凶 != \"上籤\":\n",
        "        吉凶 = \"上籤\"\n",
        "\n",
        "    詳解 = re.sub(r\"[^\\S ]+\", \" \", v[\"詳解\"]).replace(\"”\", '\"').replace(\"“\", '\"')\n",
        "    v.update({\"id\": v[\"id\"] - offset_id})\n",
        "    v.update({\"詩名\": 詩名})\n",
        "    v.update({\"詩運\": 詩運})\n",
        "    v.update({\"吉凶\": 吉凶})\n",
        "    v.update({\"詳解\": 詳解})\n",
        "\n",
        "    print(f\"{id}=={v['id']}\", f\"content=【{v['籤名']} {詩運} {吉凶}】{v['詳解'][:20]}\")"
      ]
    },
    {
      "cell_type": "code",
      "execution_count": null,
      "metadata": {
        "id": "kUEvx4aUwvIw"
      },
      "outputs": [],
      "source": [
        "# Poem distribution\n",
        "from collections import Counter\n",
        "\n",
        "lot_result_count_map = dict(Counter([v['詩運'] for v in all_chances]))\n",
        "sum(lot_result_count_map.values()), len(\n",
        "    lot_result_count_map), lot_result_count_map"
      ]
    },
    {
      "cell_type": "code",
      "execution_count": null,
      "metadata": {
        "id": "I6K75uvtwPwS"
      },
      "outputs": [],
      "source": [
        "# Check again after data cleaned up.\n",
        "print(all_chances[0].get('籤名'), ': ', all_chances[0].get('詳解'))\n",
        "pprint(all_chances[22])"
      ]
    },
    {
      "cell_type": "code",
      "execution_count": null,
      "metadata": {
        "id": "aj8jERdcqOHy"
      },
      "outputs": [],
      "source": [
        "current_lot_groups = list(set([v['吉凶'] for v in all_chances]))\n",
        "current_lot_names = list(set([v['籤名'] for v in all_chances]))\n",
        "current_lot_results = list(set([v['詩運'] for v in all_chances]))\n",
        "\n",
        "print(f'{len(current_lot_groups)=}', current_lot_groups)\n",
        "print(f'{len(current_lot_names)=}', current_lot_names)\n",
        "print(f'{len(current_lot_results)=}', current_lot_results)\n",
        "\n",
        "[f\"{v['籤名']}-{v['詩名']} - {v['詩運']} - {v['吉凶']}\" for v in all_chances]"
      ]
    },
    {
      "cell_type": "markdown",
      "metadata": {
        "id": "_fBxtv5rwWzH"
      },
      "source": [
        "## Export to all_chances.json\n"
      ]
    },
    {
      "cell_type": "code",
      "execution_count": null,
      "metadata": {
        "colab": {
          "base_uri": "https://localhost:8080/",
          "height": 36
        },
        "id": "wQtjg2Jc4DB2",
        "outputId": "37436a08-a52d-4e96-adca-f613206d0cbe"
      },
      "outputs": [
        {
          "data": {
            "application/vnd.google.colaboratory.intrinsic+json": {
              "type": "string"
            },
            "text/plain": [
              "'宋太祖黃袍加身'"
            ]
          },
          "execution_count": 48,
          "metadata": {},
          "output_type": "execute_result"
        }
      ],
      "source": [
        "all_chances[0]['詩名']"
      ]
    },
    {
      "cell_type": "code",
      "execution_count": null,
      "metadata": {
        "colab": {
          "base_uri": "https://localhost:8080/"
        },
        "id": "couQNatMYdLt",
        "outputId": "93102c10-d506-41db-f224-e11638219014"
      },
      "outputs": [
        {
          "name": "stdout",
          "output_type": "stream",
          "text": [
            "Stored 100 records to all_chances.json\n"
          ]
        }
      ],
      "source": [
        "# Overwrite all_chances.json\n",
        "all_chances_file = 'all_chances.json'\n",
        "if all_chances:\n",
        "    with open(all_chances_file, 'w', encoding='utf-8') as f:\n",
        "        json.dump(all_chances, f, indent=4, ensure_ascii=False)\n",
        "    print(f'Stored {len(all_chances)} records to {all_chances_file}')"
      ]
    },
    {
      "cell_type": "markdown",
      "metadata": {
        "id": "Ugge5bPpRj2m"
      },
      "source": [
        "## Import all_chances.json\n"
      ]
    },
    {
      "cell_type": "code",
      "execution_count": null,
      "metadata": {
        "colab": {
          "base_uri": "https://localhost:8080/"
        },
        "id": "PyiX3M9XRohT",
        "outputId": "fc91eb06-28a7-496c-e1b2-542fc5974969"
      },
      "outputs": [
        {
          "name": "stdout",
          "output_type": "stream",
          "text": [
            "Loaded 100 records from all_chances.json\n"
          ]
        }
      ],
      "source": [
        "import json\n",
        "\n",
        "all_chances_file = 'all_chances.json'\n",
        "all_chances = []\n",
        "# Read all_chances.json, please upload to colab first.\n",
        "with open(all_chances_file, 'r', encoding='utf8') as f:\n",
        "    all_chances = json.load(f)\n",
        "\n",
        "print(f'Loaded {len(all_chances)} records from {all_chances_file}')"
      ]
    }
  ],
  "metadata": {
    "colab": {
      "provenance": [],
      "toc_visible": true
    },
    "kernelspec": {
      "display_name": "Python 3",
      "name": "python3"
    },
    "language_info": {
      "name": "python"
    }
  },
  "nbformat": 4,
  "nbformat_minor": 0
}
